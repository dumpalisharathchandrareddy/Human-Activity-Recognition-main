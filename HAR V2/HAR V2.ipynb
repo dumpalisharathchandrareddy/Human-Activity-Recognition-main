{
 "cells": [
  {
   "cell_type": "code",
   "execution_count": null,
   "id": "abbe3556-52b3-48c7-84e2-816993b295f7",
   "metadata": {},
   "outputs": [],
   "source": []
  },
  {
   "cell_type": "markdown",
   "id": "ffe5697e-2ec4-474b-98aa-411fb88c1639",
   "metadata": {
    "_cell_guid": "b1076dfc-b9ad-4769-8c92-a6c4dae69d19",
    "_uuid": "8f2839f25d086af736a60e9eeb907d3b93b6e0e5",
    "execution": {
     "iopub.execute_input": "2022-09-27T11:35:18.176143Z",
     "iopub.status.busy": "2022-09-27T11:35:18.175691Z",
     "iopub.status.idle": "2022-09-27T11:35:18.212354Z",
     "shell.execute_reply": "2022-09-27T11:35:18.211124Z",
     "shell.execute_reply.started": "2022-09-27T11:35:18.17605Z"
    }
   },
   "source": [
    "# Human Activity Recognition"
   ]
  },
  {
   "cell_type": "markdown",
   "id": "0b82f8f3-dc23-4348-bba3-34d5b40a1043",
   "metadata": {},
   "source": [
    "# Quick overview of the dataset :"
   ]
  },
  {
   "cell_type": "markdown",
   "id": "1916f631-828f-4157-8f94-82243b004ccc",
   "metadata": {},
   "source": [
    "* Accelerometer and Gyroscope readings are taken from 30 volunteers(referred as subjects) while performing the following 6 Activities.\n",
    "\n",
    "    1. Walking     \n",
    "    2. WalkingUpstairs \n",
    "    3. WalkingDownstairs \n",
    "    4. Standing \n",
    "    5. Sitting \n",
    "    6. Lying.\n",
    "\n",
    "\n",
    "* Readings are divided into a window of 2.56 seconds with 50% overlapping. \n",
    "\n",
    "* Accelerometer readings are divided into gravity acceleration and body acceleration readings,\n",
    "  which has x,y and z components each.\n",
    "\n",
    "* Gyroscope readings are the measure of angular velocities which has x,y and z components.\n",
    "\n",
    "* Jerk signals are calculated for BodyAcceleration readings.\n",
    "\n",
    "* Fourier Transforms are made on the above time readings to obtain frequency readings.\n",
    "\n",
    "* Now, on all the base signal readings., mean, max, mad, sma, arcoefficient, engerybands,entropy etc., are calculated for each window.\n",
    "\n",
    "* We get a feature vector of 561 features and these features are given in the dataset.\n",
    "\n",
    "* Each window of readings is a datapoint of 561 features.\n",
    "\n",
    "## Problem Framework\n",
    "\n",
    "* 30 subjects(volunteers) data is randomly split to 70%(21) test and 30%(7) train data.\n",
    "* Each datapoint corresponds one of the 6 Activities.\n"
   ]
  },
  {
   "cell_type": "markdown",
   "id": "4ed04124-25c3-4ed0-8e9e-2b70462a6717",
   "metadata": {},
   "source": [
    "## Problem Statement\n",
    "\n",
    " + Given a new datapoint we have to predict the Activity"
   ]
  },
  {
   "cell_type": "code",
   "execution_count": 1,
   "id": "dfaeb560-0b84-431d-9549-a7a20a08325a",
   "metadata": {},
   "outputs": [],
   "source": [
    "import pandas as pd\n",
    "import numpy as np\n",
    "import warnings\n",
    "warnings.filterwarnings(\"ignore\")"
   ]
  },
  {
   "cell_type": "markdown",
   "id": "e62ac42f-e96a-4923-b3f6-bd2a8ce45ecc",
   "metadata": {},
   "source": [
    "## Load dataset"
   ]
  },
  {
   "cell_type": "code",
   "execution_count": 2,
   "id": "bc2d5f32-a731-4f2d-b945-72b55d470bba",
   "metadata": {},
   "outputs": [],
   "source": [
    "train = pd.read_csv('train.csv')\n",
    "test = pd.read_csv('test.csv')"
   ]
  },
  {
   "cell_type": "code",
   "execution_count": 3,
   "id": "9e9a3b84-0691-443a-88bf-8838b9e9a34c",
   "metadata": {},
   "outputs": [
    {
     "data": {
      "text/html": [
       "<div>\n",
       "<style scoped>\n",
       "    .dataframe tbody tr th:only-of-type {\n",
       "        vertical-align: middle;\n",
       "    }\n",
       "\n",
       "    .dataframe tbody tr th {\n",
       "        vertical-align: top;\n",
       "    }\n",
       "\n",
       "    .dataframe thead th {\n",
       "        text-align: right;\n",
       "    }\n",
       "</style>\n",
       "<table border=\"1\" class=\"dataframe\">\n",
       "  <thead>\n",
       "    <tr style=\"text-align: right;\">\n",
       "      <th></th>\n",
       "      <th>tBodyAcc-mean()-X</th>\n",
       "      <th>tBodyAcc-mean()-Y</th>\n",
       "      <th>tBodyAcc-mean()-Z</th>\n",
       "      <th>tBodyAcc-std()-X</th>\n",
       "      <th>tBodyAcc-std()-Y</th>\n",
       "      <th>tBodyAcc-std()-Z</th>\n",
       "      <th>tBodyAcc-mad()-X</th>\n",
       "      <th>tBodyAcc-mad()-Y</th>\n",
       "      <th>tBodyAcc-mad()-Z</th>\n",
       "      <th>tBodyAcc-max()-X</th>\n",
       "      <th>...</th>\n",
       "      <th>fBodyBodyGyroJerkMag-kurtosis()</th>\n",
       "      <th>angle(tBodyAccMean,gravity)</th>\n",
       "      <th>angle(tBodyAccJerkMean),gravityMean)</th>\n",
       "      <th>angle(tBodyGyroMean,gravityMean)</th>\n",
       "      <th>angle(tBodyGyroJerkMean,gravityMean)</th>\n",
       "      <th>angle(X,gravityMean)</th>\n",
       "      <th>angle(Y,gravityMean)</th>\n",
       "      <th>angle(Z,gravityMean)</th>\n",
       "      <th>subject</th>\n",
       "      <th>Activity</th>\n",
       "    </tr>\n",
       "  </thead>\n",
       "  <tbody>\n",
       "    <tr>\n",
       "      <th>0</th>\n",
       "      <td>0.288585</td>\n",
       "      <td>-0.020294</td>\n",
       "      <td>-0.132905</td>\n",
       "      <td>-0.995279</td>\n",
       "      <td>-0.983111</td>\n",
       "      <td>-0.913526</td>\n",
       "      <td>-0.995112</td>\n",
       "      <td>-0.983185</td>\n",
       "      <td>-0.923527</td>\n",
       "      <td>-0.934724</td>\n",
       "      <td>...</td>\n",
       "      <td>-0.710304</td>\n",
       "      <td>-0.112754</td>\n",
       "      <td>0.030400</td>\n",
       "      <td>-0.464761</td>\n",
       "      <td>-0.018446</td>\n",
       "      <td>-0.841247</td>\n",
       "      <td>0.179941</td>\n",
       "      <td>-0.058627</td>\n",
       "      <td>1</td>\n",
       "      <td>STANDING</td>\n",
       "    </tr>\n",
       "    <tr>\n",
       "      <th>1</th>\n",
       "      <td>0.278419</td>\n",
       "      <td>-0.016411</td>\n",
       "      <td>-0.123520</td>\n",
       "      <td>-0.998245</td>\n",
       "      <td>-0.975300</td>\n",
       "      <td>-0.960322</td>\n",
       "      <td>-0.998807</td>\n",
       "      <td>-0.974914</td>\n",
       "      <td>-0.957686</td>\n",
       "      <td>-0.943068</td>\n",
       "      <td>...</td>\n",
       "      <td>-0.861499</td>\n",
       "      <td>0.053477</td>\n",
       "      <td>-0.007435</td>\n",
       "      <td>-0.732626</td>\n",
       "      <td>0.703511</td>\n",
       "      <td>-0.844788</td>\n",
       "      <td>0.180289</td>\n",
       "      <td>-0.054317</td>\n",
       "      <td>1</td>\n",
       "      <td>STANDING</td>\n",
       "    </tr>\n",
       "  </tbody>\n",
       "</table>\n",
       "<p>2 rows × 563 columns</p>\n",
       "</div>"
      ],
      "text/plain": [
       "   tBodyAcc-mean()-X  tBodyAcc-mean()-Y  tBodyAcc-mean()-Z  tBodyAcc-std()-X  \\\n",
       "0           0.288585          -0.020294          -0.132905         -0.995279   \n",
       "1           0.278419          -0.016411          -0.123520         -0.998245   \n",
       "\n",
       "   tBodyAcc-std()-Y  tBodyAcc-std()-Z  tBodyAcc-mad()-X  tBodyAcc-mad()-Y  \\\n",
       "0         -0.983111         -0.913526         -0.995112         -0.983185   \n",
       "1         -0.975300         -0.960322         -0.998807         -0.974914   \n",
       "\n",
       "   tBodyAcc-mad()-Z  tBodyAcc-max()-X  ...  fBodyBodyGyroJerkMag-kurtosis()  \\\n",
       "0         -0.923527         -0.934724  ...                        -0.710304   \n",
       "1         -0.957686         -0.943068  ...                        -0.861499   \n",
       "\n",
       "   angle(tBodyAccMean,gravity)  angle(tBodyAccJerkMean),gravityMean)  \\\n",
       "0                    -0.112754                              0.030400   \n",
       "1                     0.053477                             -0.007435   \n",
       "\n",
       "   angle(tBodyGyroMean,gravityMean)  angle(tBodyGyroJerkMean,gravityMean)  \\\n",
       "0                         -0.464761                             -0.018446   \n",
       "1                         -0.732626                              0.703511   \n",
       "\n",
       "   angle(X,gravityMean)  angle(Y,gravityMean)  angle(Z,gravityMean)  subject  \\\n",
       "0             -0.841247              0.179941             -0.058627        1   \n",
       "1             -0.844788              0.180289             -0.054317        1   \n",
       "\n",
       "   Activity  \n",
       "0  STANDING  \n",
       "1  STANDING  \n",
       "\n",
       "[2 rows x 563 columns]"
      ]
     },
     "execution_count": 3,
     "metadata": {},
     "output_type": "execute_result"
    }
   ],
   "source": [
    "# print first 2 rows of train data\n",
    "train.head(2)"
   ]
  },
  {
   "cell_type": "code",
   "execution_count": 4,
   "id": "0579e25e-c625-4f5b-b421-17fa79958865",
   "metadata": {},
   "outputs": [
    {
     "data": {
      "text/html": [
       "<div>\n",
       "<style scoped>\n",
       "    .dataframe tbody tr th:only-of-type {\n",
       "        vertical-align: middle;\n",
       "    }\n",
       "\n",
       "    .dataframe tbody tr th {\n",
       "        vertical-align: top;\n",
       "    }\n",
       "\n",
       "    .dataframe thead th {\n",
       "        text-align: right;\n",
       "    }\n",
       "</style>\n",
       "<table border=\"1\" class=\"dataframe\">\n",
       "  <thead>\n",
       "    <tr style=\"text-align: right;\">\n",
       "      <th></th>\n",
       "      <th>tBodyAcc-mean()-X</th>\n",
       "      <th>tBodyAcc-mean()-Y</th>\n",
       "      <th>tBodyAcc-mean()-Z</th>\n",
       "      <th>tBodyAcc-std()-X</th>\n",
       "      <th>tBodyAcc-std()-Y</th>\n",
       "      <th>tBodyAcc-std()-Z</th>\n",
       "      <th>tBodyAcc-mad()-X</th>\n",
       "      <th>tBodyAcc-mad()-Y</th>\n",
       "      <th>tBodyAcc-mad()-Z</th>\n",
       "      <th>tBodyAcc-max()-X</th>\n",
       "      <th>...</th>\n",
       "      <th>fBodyBodyGyroJerkMag-kurtosis()</th>\n",
       "      <th>angle(tBodyAccMean,gravity)</th>\n",
       "      <th>angle(tBodyAccJerkMean),gravityMean)</th>\n",
       "      <th>angle(tBodyGyroMean,gravityMean)</th>\n",
       "      <th>angle(tBodyGyroJerkMean,gravityMean)</th>\n",
       "      <th>angle(X,gravityMean)</th>\n",
       "      <th>angle(Y,gravityMean)</th>\n",
       "      <th>angle(Z,gravityMean)</th>\n",
       "      <th>subject</th>\n",
       "      <th>Activity</th>\n",
       "    </tr>\n",
       "  </thead>\n",
       "  <tbody>\n",
       "    <tr>\n",
       "      <th>0</th>\n",
       "      <td>0.257178</td>\n",
       "      <td>-0.023285</td>\n",
       "      <td>-0.014654</td>\n",
       "      <td>-0.938404</td>\n",
       "      <td>-0.920091</td>\n",
       "      <td>-0.667683</td>\n",
       "      <td>-0.952501</td>\n",
       "      <td>-0.925249</td>\n",
       "      <td>-0.674302</td>\n",
       "      <td>-0.894088</td>\n",
       "      <td>...</td>\n",
       "      <td>-0.705974</td>\n",
       "      <td>0.006462</td>\n",
       "      <td>0.16292</td>\n",
       "      <td>-0.825886</td>\n",
       "      <td>0.271151</td>\n",
       "      <td>-0.720009</td>\n",
       "      <td>0.276801</td>\n",
       "      <td>-0.057978</td>\n",
       "      <td>2</td>\n",
       "      <td>STANDING</td>\n",
       "    </tr>\n",
       "    <tr>\n",
       "      <th>1</th>\n",
       "      <td>0.286027</td>\n",
       "      <td>-0.013163</td>\n",
       "      <td>-0.119083</td>\n",
       "      <td>-0.975415</td>\n",
       "      <td>-0.967458</td>\n",
       "      <td>-0.944958</td>\n",
       "      <td>-0.986799</td>\n",
       "      <td>-0.968401</td>\n",
       "      <td>-0.945823</td>\n",
       "      <td>-0.894088</td>\n",
       "      <td>...</td>\n",
       "      <td>-0.594944</td>\n",
       "      <td>-0.083495</td>\n",
       "      <td>0.01750</td>\n",
       "      <td>-0.434375</td>\n",
       "      <td>0.920593</td>\n",
       "      <td>-0.698091</td>\n",
       "      <td>0.281343</td>\n",
       "      <td>-0.083898</td>\n",
       "      <td>2</td>\n",
       "      <td>STANDING</td>\n",
       "    </tr>\n",
       "  </tbody>\n",
       "</table>\n",
       "<p>2 rows × 563 columns</p>\n",
       "</div>"
      ],
      "text/plain": [
       "   tBodyAcc-mean()-X  tBodyAcc-mean()-Y  tBodyAcc-mean()-Z  tBodyAcc-std()-X  \\\n",
       "0           0.257178          -0.023285          -0.014654         -0.938404   \n",
       "1           0.286027          -0.013163          -0.119083         -0.975415   \n",
       "\n",
       "   tBodyAcc-std()-Y  tBodyAcc-std()-Z  tBodyAcc-mad()-X  tBodyAcc-mad()-Y  \\\n",
       "0         -0.920091         -0.667683         -0.952501         -0.925249   \n",
       "1         -0.967458         -0.944958         -0.986799         -0.968401   \n",
       "\n",
       "   tBodyAcc-mad()-Z  tBodyAcc-max()-X  ...  fBodyBodyGyroJerkMag-kurtosis()  \\\n",
       "0         -0.674302         -0.894088  ...                        -0.705974   \n",
       "1         -0.945823         -0.894088  ...                        -0.594944   \n",
       "\n",
       "   angle(tBodyAccMean,gravity)  angle(tBodyAccJerkMean),gravityMean)  \\\n",
       "0                     0.006462                               0.16292   \n",
       "1                    -0.083495                               0.01750   \n",
       "\n",
       "   angle(tBodyGyroMean,gravityMean)  angle(tBodyGyroJerkMean,gravityMean)  \\\n",
       "0                         -0.825886                              0.271151   \n",
       "1                         -0.434375                              0.920593   \n",
       "\n",
       "   angle(X,gravityMean)  angle(Y,gravityMean)  angle(Z,gravityMean)  subject  \\\n",
       "0             -0.720009              0.276801             -0.057978        2   \n",
       "1             -0.698091              0.281343             -0.083898        2   \n",
       "\n",
       "   Activity  \n",
       "0  STANDING  \n",
       "1  STANDING  \n",
       "\n",
       "[2 rows x 563 columns]"
      ]
     },
     "execution_count": 4,
     "metadata": {},
     "output_type": "execute_result"
    }
   ],
   "source": [
    "# print first 2 rows of test data\n",
    "test.head(2)"
   ]
  },
  {
   "cell_type": "code",
   "execution_count": 5,
   "id": "72841db6-6f7a-48a7-8773-dfce0827178d",
   "metadata": {},
   "outputs": [
    {
     "name": "stdout",
     "output_type": "stream",
     "text": [
      "(7352, 563)\n",
      "(2947, 563)\n"
     ]
    }
   ],
   "source": [
    "print(train.shape)\n",
    "print(test.shape)"
   ]
  },
  {
   "cell_type": "markdown",
   "id": "8c56eeb6-94c0-4e3e-aa65-73ecaa40dd92",
   "metadata": {},
   "source": [
    "# Data Cleaning"
   ]
  },
  {
   "cell_type": "markdown",
   "id": "d1fe1e0a-7a41-446e-b2ea-cdf28b5ab5b2",
   "metadata": {},
   "source": [
    "### 1. Changing feature names\n",
    "\n",
    "We always need to special characters from column names."
   ]
  },
  {
   "cell_type": "code",
   "execution_count": 6,
   "id": "4b5d7bdb-8039-49ba-82c3-d09ef61abd79",
   "metadata": {},
   "outputs": [
    {
     "data": {
      "text/plain": [
       "Index(['tBodyAcc-mean()-X', 'tBodyAcc-mean()-Y', 'tBodyAcc-mean()-Z',\n",
       "       'tBodyAcc-std()-X', 'tBodyAcc-std()-Y', 'tBodyAcc-std()-Z',\n",
       "       'tBodyAcc-mad()-X', 'tBodyAcc-mad()-Y', 'tBodyAcc-mad()-Z',\n",
       "       'tBodyAcc-max()-X',\n",
       "       ...\n",
       "       'fBodyBodyGyroJerkMag-kurtosis()', 'angle(tBodyAccMean,gravity)',\n",
       "       'angle(tBodyAccJerkMean),gravityMean)',\n",
       "       'angle(tBodyGyroMean,gravityMean)',\n",
       "       'angle(tBodyGyroJerkMean,gravityMean)', 'angle(X,gravityMean)',\n",
       "       'angle(Y,gravityMean)', 'angle(Z,gravityMean)', 'subject', 'Activity'],\n",
       "      dtype='object', length=563)"
      ]
     },
     "execution_count": 6,
     "metadata": {},
     "output_type": "execute_result"
    }
   ],
   "source": [
    "columns = train.columns\n",
    "\n",
    "# Removing '()' from column names\n",
    "columns = columns.str.replace('[()]','')\n",
    "columns = columns.str.replace('[-]', '')\n",
    "columns = columns.str.replace('[,]','')\n",
    "\n",
    "train.columns = columns\n",
    "test.columns = columns\n",
    "\n",
    "test.columns"
   ]
  },
  {
   "cell_type": "markdown",
   "id": "7aa103be-177a-407c-8bda-44532e63ce49",
   "metadata": {},
   "source": [
    "### 2. Check for Duplicates"
   ]
  },
  {
   "cell_type": "code",
   "execution_count": 7,
   "id": "45e141b1-2e6b-492b-a71b-9b7ad70f7f3c",
   "metadata": {},
   "outputs": [
    {
     "name": "stdout",
     "output_type": "stream",
     "text": [
      "No of duplicates in train: 0\n",
      "No of duplicates in test : 0\n"
     ]
    }
   ],
   "source": [
    "print('No of duplicates in train: {}'.format(sum(train.duplicated())))\n",
    "print('No of duplicates in test : {}'.format(sum(test.duplicated())))"
   ]
  },
  {
   "cell_type": "markdown",
   "id": "edbd3736-0eba-4d9d-928d-143505068958",
   "metadata": {},
   "source": [
    "There are no duplicate rows."
   ]
  },
  {
   "cell_type": "markdown",
   "id": "9bc9fc6d-859e-4621-a1f7-f6e12d73ff1f",
   "metadata": {},
   "source": [
    "### 3. Checking for NaN/null values"
   ]
  },
  {
   "cell_type": "code",
   "execution_count": 8,
   "id": "b61ccd9f-f8a3-48a2-a861-2c330f601496",
   "metadata": {},
   "outputs": [
    {
     "name": "stdout",
     "output_type": "stream",
     "text": [
      "We have 0 NaN/Null values in train\n",
      "We have 0 NaN/Null values in test\n"
     ]
    }
   ],
   "source": [
    "print('We have {} NaN/Null values in train'.format(train.isnull().values.sum()))\n",
    "print('We have {} NaN/Null values in test'.format(test.isnull().values.sum()))"
   ]
  },
  {
   "cell_type": "markdown",
   "id": "fdaa77c2-5550-4e86-b694-5574d8434bdf",
   "metadata": {},
   "source": [
    "There are no null values."
   ]
  },
  {
   "cell_type": "markdown",
   "id": "04eeb5d5-52e6-4c71-8758-e68bf0d15923",
   "metadata": {},
   "source": [
    "### 4. Check for data imbalance"
   ]
  },
  {
   "cell_type": "markdown",
   "id": "2bf8159e-3abc-4ce6-a823-b9fb581dcfb8",
   "metadata": {},
   "source": [
    "### i) Check number of activites per subject / person."
   ]
  },
  {
   "cell_type": "code",
   "execution_count": 9,
   "id": "fef5058c-aded-43df-9870-67dd13a93c6e",
   "metadata": {},
   "outputs": [],
   "source": [
    "# import required liabraries for plotting \n",
    "import matplotlib.pyplot as plt\n",
    "import seaborn as sns\n",
    "\n",
    "sns.set_style('whitegrid')\n",
    "plt.rcParams['font.family'] = 'Dejavu Sans'"
   ]
  },
  {
   "cell_type": "code",
   "execution_count": 10,
   "id": "854b74e4-dba6-40c1-9c42-dcda2f77a59a",
   "metadata": {},
   "outputs": [
    {
     "data": {
      "image/png": "[encoded data removed]",
      "text/plain": [
       "<Figure size 1600x800 with 1 Axes>"
      ]
     },
     "metadata": {},
     "output_type": "display_data"
    }
   ],
   "source": [
    "plt.figure(figsize=(16,8)) # set fig size\n",
    "plt.title('Data provided by each user', fontsize=20) # give title\n",
    "sns.countplot(x='subject',hue='Activity', data = train) # count plot gives count of each activities per subject\n",
    "plt.show()"
   ]
  },
  {
   "cell_type": "markdown",
   "id": "3764d1cf-27e3-4ecf-bbc1-9a14d5d55e9b",
   "metadata": {},
   "source": [
    "### Observations:\n",
    "\n",
    "1. Each activities are almost same for all volunteers. "
   ]
  },
  {
   "cell_type": "markdown",
   "id": "0a034a75-b887-47fb-97da-82a56ebf9e38",
   "metadata": {},
   "source": [
    "### ii) Check number of data points per class"
   ]
  },
  {
   "cell_type": "code",
   "execution_count": 11,
   "id": "0a20e463-3172-487c-9399-2fe34b609645",
   "metadata": {},
   "outputs": [
    {
     "data": {
      "image/png": "[encoded data removed]",
      "text/plain": [
       "<Figure size 1000x600 with 1 Axes>"
      ]
     },
     "metadata": {},
     "output_type": "display_data"
    }
   ],
   "source": [
    "# plt.title('No of Datapoints per Activity', fontsize=15)\n",
    "# sns.countplot(train.Activity) # count plot gives count of each activity\n",
    "# plt.xticks(rotation=90)\n",
    "# plt.show()\n",
    "\n",
    "import matplotlib.pyplot as plt\n",
    "import pandas as pd\n",
    "\n",
    "# Assuming train is your DataFrame containing the 'Activity' column\n",
    "# Replace 'Activity' with the actual column name if different\n",
    "activity_counts = train['Activity'].value_counts()\n",
    "\n",
    "plt.figure(figsize=(10, 6))\n",
    "activity_counts.plot(kind='bar')\n",
    "plt.title('Number of Datapoints per Activity')\n",
    "plt.xlabel('Activity')\n",
    "plt.ylabel('Count')\n",
    "plt.xticks(rotation=90)\n",
    "plt.show()\n"
   ]
  },
  {
   "cell_type": "markdown",
   "id": "7ea30bf3-7bce-441b-ab61-39fbe3dab7fa",
   "metadata": {},
   "source": [
    "### Observation:\n",
    "All activities is almost balanced."
   ]
  },
  {
   "cell_type": "markdown",
   "id": "6a170ab1-d18b-46ea-b83d-38399e3fa21d",
   "metadata": {},
   "source": [
    "# Exploratory Data Analysis"
   ]
  },
  {
   "cell_type": "markdown",
   "id": "8e4ab56b-dd65-49bb-9453-efb1d94e4d4f",
   "metadata": {},
   "source": [
    "### 1. Featuring Engineering from Domain Knowledge "
   ]
  },
  {
   "cell_type": "markdown",
   "id": "78f97b37-167a-4296-ae1a-825674dc2e67",
   "metadata": {},
   "source": [
    "+ __Static and Dynamic Activities__\n",
    "\n",
    "    - In static activities (sit, stand, lie down) motion information will not be very useful.\n",
    "\t- In the dynamic activities (Walking, WalkingUpstairs,WalkingDownstairs) motion info will be useful."
   ]
  },
  {
   "cell_type": "markdown",
   "id": "5d7b4274-eef9-4db2-aaac-d241c966a8f5",
   "metadata": {},
   "source": [
    "### 2. Stationary and Moving activities are completely different"
   ]
  },
  {
   "cell_type": "code",
   "execution_count": 13,
   "id": "8c827fb5-bdf2-49af-af63-b7a51b713054",
   "metadata": {},
   "outputs": [
    {
     "ename": "KeyError",
     "evalue": "\"None of [Index(['tBodyAccMagmean'], dtype='object')] are in the [columns]\"",
     "output_type": "error",
     "traceback": [
      "\u001b[0;31m---------------------------------------------------------------------------\u001b[0m",
      "\u001b[0;31mKeyError\u001b[0m                                  Traceback (most recent call last)",
      "Cell \u001b[0;32mIn[13], line 17\u001b[0m\n\u001b[1;32m     14\u001b[0m sns\u001b[38;5;241m.\u001b[39mset_palette(\u001b[38;5;124m\"\u001b[39m\u001b[38;5;124mSet1\u001b[39m\u001b[38;5;124m\"\u001b[39m, desat\u001b[38;5;241m=\u001b[39m\u001b[38;5;241m0.80\u001b[39m) \u001b[38;5;66;03m# Set the matplotlib color cycle using a seaborn palette.\u001b[39;00m\n\u001b[1;32m     16\u001b[0m facetgrid \u001b[38;5;241m=\u001b[39m sns\u001b[38;5;241m.\u001b[39mFacetGrid(train, hue\u001b[38;5;241m=\u001b[39m\u001b[38;5;124m'\u001b[39m\u001b[38;5;124mActivity\u001b[39m\u001b[38;5;124m'\u001b[39m, height\u001b[38;5;241m=\u001b[39m\u001b[38;5;241m6\u001b[39m, aspect\u001b[38;5;241m=\u001b[39m\u001b[38;5;241m2\u001b[39m) \u001b[38;5;66;03m# plot smooth histogram\u001b[39;00m\n\u001b[0;32m---> 17\u001b[0m facetgrid\u001b[38;5;241m.\u001b[39mmap(sns\u001b[38;5;241m.\u001b[39mdistplot, \u001b[38;5;124m'\u001b[39m\u001b[38;5;124mtBodyAccMagmean\u001b[39m\u001b[38;5;124m'\u001b[39m, hist\u001b[38;5;241m=\u001b[39m\u001b[38;5;28;01mFalse\u001b[39;00m)\u001b[38;5;241m.\u001b[39madd_legend()\n\u001b[1;32m     19\u001b[0m plt\u001b[38;5;241m.\u001b[39mannotate(\u001b[38;5;124m\"\u001b[39m\u001b[38;5;124mStationary Activities\u001b[39m\u001b[38;5;124m\"\u001b[39m, xy\u001b[38;5;241m=\u001b[39m(\u001b[38;5;241m-\u001b[39m\u001b[38;5;241m0.956\u001b[39m, \u001b[38;5;241m8\u001b[39m), xytext\u001b[38;5;241m=\u001b[39m(\u001b[38;5;241m-\u001b[39m\u001b[38;5;241m0.8\u001b[39m, \u001b[38;5;241m12\u001b[39m), size\u001b[38;5;241m=\u001b[39m\u001b[38;5;241m20\u001b[39m,\\\n\u001b[1;32m     20\u001b[0m              va\u001b[38;5;241m=\u001b[39m\u001b[38;5;124m'\u001b[39m\u001b[38;5;124mcenter\u001b[39m\u001b[38;5;124m'\u001b[39m, ha\u001b[38;5;241m=\u001b[39m\u001b[38;5;124m'\u001b[39m\u001b[38;5;124mleft\u001b[39m\u001b[38;5;124m'\u001b[39m,\\\n\u001b[1;32m     21\u001b[0m              arrowprops\u001b[38;5;241m=\u001b[39m\u001b[38;5;28mdict\u001b[39m(arrowstyle\u001b[38;5;241m=\u001b[39m\u001b[38;5;124m\"\u001b[39m\u001b[38;5;124msimple\u001b[39m\u001b[38;5;124m\"\u001b[39m, connectionstyle\u001b[38;5;241m=\u001b[39m\u001b[38;5;124m\"\u001b[39m\u001b[38;5;124marc3,rad=0.1\u001b[39m\u001b[38;5;124m\"\u001b[39m)) \u001b[38;5;66;03m# title\u001b[39;00m\n\u001b[1;32m     23\u001b[0m plt\u001b[38;5;241m.\u001b[39mannotate(\u001b[38;5;124m\"\u001b[39m\u001b[38;5;124mMoving Activities\u001b[39m\u001b[38;5;124m\"\u001b[39m, xy\u001b[38;5;241m=\u001b[39m(\u001b[38;5;241m0\u001b[39m, \u001b[38;5;241m3\u001b[39m), xytext\u001b[38;5;241m=\u001b[39m(\u001b[38;5;241m0.2\u001b[39m, \u001b[38;5;241m9\u001b[39m), size\u001b[38;5;241m=\u001b[39m\u001b[38;5;241m20\u001b[39m,\n\u001b[1;32m     24\u001b[0m              va\u001b[38;5;241m=\u001b[39m\u001b[38;5;124m'\u001b[39m\u001b[38;5;124mcenter\u001b[39m\u001b[38;5;124m'\u001b[39m, ha\u001b[38;5;241m=\u001b[39m\u001b[38;5;124m'\u001b[39m\u001b[38;5;124mleft\u001b[39m\u001b[38;5;124m'\u001b[39m,\n\u001b[1;32m     25\u001b[0m              arrowprops\u001b[38;5;241m=\u001b[39m\u001b[38;5;28mdict\u001b[39m(arrowstyle\u001b[38;5;241m=\u001b[39m\u001b[38;5;124m\"\u001b[39m\u001b[38;5;124msimple\u001b[39m\u001b[38;5;124m\"\u001b[39m, connectionstyle\u001b[38;5;241m=\u001b[39m\u001b[38;5;124m\"\u001b[39m\u001b[38;5;124marc3,rad=0.1\u001b[39m\u001b[38;5;124m\"\u001b[39m)) \u001b[38;5;66;03m# title\u001b[39;00m\n",
      "File \u001b[0;32m~/anaconda3/lib/python3.11/site-packages/seaborn/axisgrid.py:742\u001b[0m, in \u001b[0;36mFacetGrid.map\u001b[0;34m(self, func, *args, **kwargs)\u001b[0m\n\u001b[1;32m    739\u001b[0m     kwargs[\u001b[38;5;124m\"\u001b[39m\u001b[38;5;124mlabel\u001b[39m\u001b[38;5;124m\"\u001b[39m] \u001b[38;5;241m=\u001b[39m utils\u001b[38;5;241m.\u001b[39mto_utf8(\u001b[38;5;28mself\u001b[39m\u001b[38;5;241m.\u001b[39mhue_names[hue_k])\n\u001b[1;32m    741\u001b[0m \u001b[38;5;66;03m# Get the actual data we are going to plot with\u001b[39;00m\n\u001b[0;32m--> 742\u001b[0m plot_data \u001b[38;5;241m=\u001b[39m data_ijk[\u001b[38;5;28mlist\u001b[39m(args)]\n\u001b[1;32m    743\u001b[0m \u001b[38;5;28;01mif\u001b[39;00m \u001b[38;5;28mself\u001b[39m\u001b[38;5;241m.\u001b[39m_dropna:\n\u001b[1;32m    744\u001b[0m     plot_data \u001b[38;5;241m=\u001b[39m plot_data\u001b[38;5;241m.\u001b[39mdropna()\n",
      "File \u001b[0;32m~/anaconda3/lib/python3.11/site-packages/pandas/core/frame.py:3767\u001b[0m, in \u001b[0;36mDataFrame.__getitem__\u001b[0;34m(self, key)\u001b[0m\n\u001b[1;32m   3765\u001b[0m     \u001b[38;5;28;01mif\u001b[39;00m is_iterator(key):\n\u001b[1;32m   3766\u001b[0m         key \u001b[38;5;241m=\u001b[39m \u001b[38;5;28mlist\u001b[39m(key)\n\u001b[0;32m-> 3767\u001b[0m     indexer \u001b[38;5;241m=\u001b[39m \u001b[38;5;28mself\u001b[39m\u001b[38;5;241m.\u001b[39mcolumns\u001b[38;5;241m.\u001b[39m_get_indexer_strict(key, \u001b[38;5;124m\"\u001b[39m\u001b[38;5;124mcolumns\u001b[39m\u001b[38;5;124m\"\u001b[39m)[\u001b[38;5;241m1\u001b[39m]\n\u001b[1;32m   3769\u001b[0m \u001b[38;5;66;03m# take() does not accept boolean indexers\u001b[39;00m\n\u001b[1;32m   3770\u001b[0m \u001b[38;5;28;01mif\u001b[39;00m \u001b[38;5;28mgetattr\u001b[39m(indexer, \u001b[38;5;124m\"\u001b[39m\u001b[38;5;124mdtype\u001b[39m\u001b[38;5;124m\"\u001b[39m, \u001b[38;5;28;01mNone\u001b[39;00m) \u001b[38;5;241m==\u001b[39m \u001b[38;5;28mbool\u001b[39m:\n",
      "File \u001b[0;32m~/anaconda3/lib/python3.11/site-packages/pandas/core/indexes/base.py:5877\u001b[0m, in \u001b[0;36mIndex._get_indexer_strict\u001b[0;34m(self, key, axis_name)\u001b[0m\n\u001b[1;32m   5874\u001b[0m \u001b[38;5;28;01melse\u001b[39;00m:\n\u001b[1;32m   5875\u001b[0m     keyarr, indexer, new_indexer \u001b[38;5;241m=\u001b[39m \u001b[38;5;28mself\u001b[39m\u001b[38;5;241m.\u001b[39m_reindex_non_unique(keyarr)\n\u001b[0;32m-> 5877\u001b[0m \u001b[38;5;28mself\u001b[39m\u001b[38;5;241m.\u001b[39m_raise_if_missing(keyarr, indexer, axis_name)\n\u001b[1;32m   5879\u001b[0m keyarr \u001b[38;5;241m=\u001b[39m \u001b[38;5;28mself\u001b[39m\u001b[38;5;241m.\u001b[39mtake(indexer)\n\u001b[1;32m   5880\u001b[0m \u001b[38;5;28;01mif\u001b[39;00m \u001b[38;5;28misinstance\u001b[39m(key, Index):\n\u001b[1;32m   5881\u001b[0m     \u001b[38;5;66;03m# GH 42790 - Preserve name from an Index\u001b[39;00m\n",
      "File \u001b[0;32m~/anaconda3/lib/python3.11/site-packages/pandas/core/indexes/base.py:5938\u001b[0m, in \u001b[0;36mIndex._raise_if_missing\u001b[0;34m(self, key, indexer, axis_name)\u001b[0m\n\u001b[1;32m   5936\u001b[0m     \u001b[38;5;28;01mif\u001b[39;00m use_interval_msg:\n\u001b[1;32m   5937\u001b[0m         key \u001b[38;5;241m=\u001b[39m \u001b[38;5;28mlist\u001b[39m(key)\n\u001b[0;32m-> 5938\u001b[0m     \u001b[38;5;28;01mraise\u001b[39;00m \u001b[38;5;167;01mKeyError\u001b[39;00m(\u001b[38;5;124mf\u001b[39m\u001b[38;5;124m\"\u001b[39m\u001b[38;5;124mNone of [\u001b[39m\u001b[38;5;132;01m{\u001b[39;00mkey\u001b[38;5;132;01m}\u001b[39;00m\u001b[38;5;124m] are in the [\u001b[39m\u001b[38;5;132;01m{\u001b[39;00maxis_name\u001b[38;5;132;01m}\u001b[39;00m\u001b[38;5;124m]\u001b[39m\u001b[38;5;124m\"\u001b[39m)\n\u001b[1;32m   5940\u001b[0m not_found \u001b[38;5;241m=\u001b[39m \u001b[38;5;28mlist\u001b[39m(ensure_index(key)[missing_mask\u001b[38;5;241m.\u001b[39mnonzero()[\u001b[38;5;241m0\u001b[39m]]\u001b[38;5;241m.\u001b[39munique())\n\u001b[1;32m   5941\u001b[0m \u001b[38;5;28;01mraise\u001b[39;00m \u001b[38;5;167;01mKeyError\u001b[39;00m(\u001b[38;5;124mf\u001b[39m\u001b[38;5;124m\"\u001b[39m\u001b[38;5;132;01m{\u001b[39;00mnot_found\u001b[38;5;132;01m}\u001b[39;00m\u001b[38;5;124m not in index\u001b[39m\u001b[38;5;124m\"\u001b[39m)\n",
      "\u001b[0;31mKeyError\u001b[0m: \"None of [Index(['tBodyAccMagmean'], dtype='object')] are in the [columns]\""
     ]
    },
    {
     "data": {
      "image/png": "[encoded data removed]",
      "text/plain": [
       "<Figure size 1200x600 with 1 Axes>"
      ]
     },
     "metadata": {},
     "output_type": "display_data"
    }
   ],
   "source": [
    "# sns.set_palette(\"Set1\", desat=0.80) # Set the matplotlib color cycle using a seaborn palette.\n",
    "# facetgrid = sns.FacetGrid(train, hue='Activity', size=6,aspect=2) # plot smooth histogram\n",
    "# facetgrid.map(sns.distplot,'tBodyAccMagmean', hist=False)\\\n",
    "#     .add_legend()\n",
    "# plt.annotate(\"Stationary Activities\", xy=(-0.956,8), xytext=(-0.8, 12), size=20,\\\n",
    "#             va='center', ha='left',\\\n",
    "#             arrowprops=dict(arrowstyle=\"simple\",connectionstyle=\"arc3,rad=0.1\")) # title\n",
    "\n",
    "# plt.annotate(\"Moving Activities\", xy=(0,3), xytext=(0.2, 9), size=20,\\\n",
    "#             va='center', ha='left',\\\n",
    "#             arrowprops=dict(arrowstyle=\"simple\",connectionstyle=\"arc3,rad=0.1\")) # title\n",
    "# plt.show()\n",
    "\n",
    "sns.set_palette(\"Set1\", desat=0.80) # Set the matplotlib color cycle using a seaborn palette.\n",
    "\n",
    "facetgrid = sns.FacetGrid(train, hue='Activity', height=6, aspect=2) # plot smooth histogram\n",
    "facetgrid.map(sns.distplot, 'tBodyAccMagmean', hist=False).add_legend()\n",
    "\n",
    "plt.annotate(\"Stationary Activities\", xy=(-0.956, 8), xytext=(-0.8, 12), size=20,\\\n",
    "             va='center', ha='left',\\\n",
    "             arrowprops=dict(arrowstyle=\"simple\", connectionstyle=\"arc3,rad=0.1\")) # title\n",
    "\n",
    "plt.annotate(\"Moving Activities\", xy=(0, 3), xytext=(0.2, 9), size=20,\n",
    "             va='center', ha='left',\n",
    "             arrowprops=dict(arrowstyle=\"simple\", connectionstyle=\"arc3,rad=0.1\")) # title\n",
    "\n",
    "plt.show()\n"
   ]
  },
  {
   "cell_type": "markdown",
   "id": "288b6706-5c78-445c-b9be-a1ca63720b2e",
   "metadata": {},
   "source": [
    "### Observation:\n",
    "From above plot we can see that for dynamic activites 'tBodyAccMagmean' features value is more than -0.5. So that we can easily distinguish stationary activities and moving activities."
   ]
  },
  {
   "cell_type": "code",
   "execution_count": null,
   "id": "c682b28f-3d66-442d-8ac7-bf65d5ba10f5",
   "metadata": {},
   "outputs": [],
   "source": [
    "train['Activity'].value_counts()"
   ]
  },
  {
   "cell_type": "code",
   "execution_count": null,
   "id": "47e7f82a-3b8a-4e37-b114-33a317008cd4",
   "metadata": {},
   "outputs": [],
   "source": [
    "# for plotting purposes taking datapoints of each activity to a different dataframe\n",
    "df1 = train[train['Activity']=='WALKING']\n",
    "df2 = train[train['Activity']=='WALKING_UPSTAIRS']\n",
    "df3 = train[train['Activity']=='WALKING_DOWNSTAIRS']\n",
    "df4 = train[train['Activity']=='SITTING']\n",
    "df5 = train[train['Activity']=='STANDING']\n",
    "df6 = train[train['Activity']=='LAYING']"
   ]
  },
  {
   "cell_type": "code",
   "execution_count": null,
   "id": "6a62c181-f1f8-42a0-8484-a5a2db4e020b",
   "metadata": {},
   "outputs": [],
   "source": [
    "plt.figure(figsize=(14,7))\n",
    "plt.subplot(2,2,1) # plot subplots\n",
    "plt.title('Stationary Activities')\n",
    "sns.distplot(df4['tBodyAccMagmean'],color = 'r',hist = False, label = 'Sitting')\n",
    "sns.distplot(df5['tBodyAccMagmean'],color = 'm',hist = False,label = 'Standing')\n",
    "sns.distplot(df6['tBodyAccMagmean'],color = 'c',hist = False, label = 'Laying') # plot all stationary activities\n",
    "plt.axis([-1.1, -0.5, 0, 35])\n",
    "plt.legend(loc='center')\n",
    "\n",
    "plt.subplot(2,2,2)\n",
    "plt.title('Moving Activities')\n",
    "sns.distplot(df1['tBodyAccMagmean'],color = 'red',hist = False, label = 'Walking')\n",
    "sns.distplot(df2['tBodyAccMagmean'],color = 'blue',hist = False,label = 'Walking Up')\n",
    "sns.distplot(df3['tBodyAccMagmean'],color = 'green',hist = False, label = 'Walking down') # plot all moving activities\n",
    "plt.legend(loc='center right')\n",
    "\n",
    "plt.tight_layout()\n",
    "plt.show()"
   ]
  },
  {
   "cell_type": "markdown",
   "id": "7455c628-ab45-4ee4-a0aa-05c8d37753f1",
   "metadata": {
    "tags": []
   },
   "source": [
    "### 3. Magnitude of an acceleration can separate it well"
   ]
  },
  {
   "cell_type": "code",
   "execution_count": null,
   "id": "4cdda71f-bc16-43dc-a75f-f5787183ec69",
   "metadata": {},
   "outputs": [],
   "source": [
    "plt.figure(figsize=(6,5))\n",
    "sns.boxplot(x='Activity', y='tBodyAccMagmean',data=train, showfliers=False, saturation=1)\n",
    "plt.ylabel('Acceleration Magnitude mean')\n",
    "plt.axhline(y=-0.7, xmin=0.1, xmax=0.9,dashes=(5,5), c='g')\n",
    "plt.axhline(y=-0.05, xmin=0.4, dashes=(5,5), c='m')\n",
    "plt.xticks(rotation=40)\n",
    "plt.show()"
   ]
  },
  {
   "cell_type": "markdown",
   "id": "e5b25aed-114f-4566-989a-8e106dd93b2b",
   "metadata": {},
   "source": [
    "### Observations:\n",
    "- If tAccMean is < -0.8 then the Activities are either Standing or Sitting or Laying.\n",
    "- If tAccMean is > -0.6 then the Activities are either Walking or WalkingDownstairs or WalkingUpstairs.\n",
    "- If tAccMean > 0.0 then the Activity is WalkingDownstairs.\n",
    "- We can classify 75% the Acitivity labels with some errors."
   ]
  },
  {
   "cell_type": "markdown",
   "id": "f675fabc-f750-4845-83fd-3b8f18bb03d2",
   "metadata": {},
   "source": [
    "### 4. Position of GravityAccelerationComponants also matters"
   ]
  },
  {
   "cell_type": "code",
   "execution_count": null,
   "id": "72941fd0-173a-4c90-9dbc-134dc5838abb",
   "metadata": {},
   "outputs": [],
   "source": [
    "sns.boxplot(x='Activity', y='angleXgravityMean', data=train)\n",
    "plt.axhline(y=0.08, xmin=0.1, xmax=0.9,c='m',dashes=(5,3))\n",
    "plt.title('Angle between X-axis and Gravity_mean', fontsize=15)\n",
    "plt.xticks(rotation = 40)\n",
    "plt.show()"
   ]
  },
  {
   "cell_type": "markdown",
   "id": "a2a89fb5-1ccc-4900-a1b7-d2a6e75c08d9",
   "metadata": {},
   "source": [
    "### Observations:\n",
    "* If angleX,gravityMean > 0 then Activity is Laying.\n",
    "* We can classify all datapoints belonging to Laying activity with just a single if else statement."
   ]
  },
  {
   "cell_type": "markdown",
   "id": "1b73fbd3-96c9-4a97-922f-507527f0e473",
   "metadata": {},
   "source": [
    "# Dimensionality Reduction"
   ]
  },
  {
   "cell_type": "markdown",
   "id": "2512e8c6-c545-448b-89fc-af9ef67103ee",
   "metadata": {},
   "source": [
    "- We have total 564 features, we could not able to analyze all the features through EDA. \n",
    "\n",
    "- By applying dimensionality reduction technique we can analyze all the features.\n",
    "\n",
    "- Let's see can we able to differentiate activities after applying dimensionality reduction technique."
   ]
  },
  {
   "cell_type": "markdown",
   "id": "3c0471fb-cf73-4485-884a-c44fe378cfce",
   "metadata": {},
   "source": [
    "## Apply T-SNE on the data\n",
    "\n",
    "- T - SNE is used for dimensionality reduction. Here we are converting 564 dimensions into 2 dimensions. So that we can easily analyze the data."
   ]
  },
  {
   "cell_type": "code",
   "execution_count": null,
   "id": "5e48decc-3fd7-4abd-a391-c44c2bfd8747",
   "metadata": {},
   "outputs": [],
   "source": [
    "from sklearn.manifold import TSNE"
   ]
  },
  {
   "cell_type": "code",
   "execution_count": null,
   "id": "1f21f0f0-61af-4fb1-a1e8-10123bf26303",
   "metadata": {},
   "outputs": [],
   "source": [
    "# performs t-sne with different perplexity values and their repective plots..\n",
    "# https://scikit-learn.org/stable/modules/generated/sklearn.manifold.TSNE.html\n",
    "\n",
    "def perform_tsne(X_data, y_data, perplexities, n_iter=1000, img_name_prefix='t-sne'):\n",
    "        \n",
    "    for index,perplexity in enumerate(perplexities):\n",
    "        # perform t-sne\n",
    "        print('\\nperforming tsne with perplexity {} and with {} iterations at max'.format(perplexity, n_iter))\n",
    "        X_reduced = TSNE(verbose=2, perplexity=perplexity).fit_transform(X_data)\n",
    "        print('Done..')\n",
    "        \n",
    "        # prepare the data for seaborn         \n",
    "        print('Creating plot for this t-sne visualization..')\n",
    "        df = pd.DataFrame({'x':X_reduced[:,0], 'y':X_reduced[:,1] ,'label':y_data})\n",
    "        \n",
    "        # draw the plot in appropriate place in the grid\n",
    "        sns.lmplot(data=df, x='x', y='y', hue='label', fit_reg=False, size=8,\\\n",
    "                   palette=\"Set1\",markers=['^','v','s','o', '1','2'])\n",
    "        plt.title(\"perplexity : {} and max_iter : {}\".format(perplexity, n_iter))\n",
    "        plt.show()\n",
    "        print('Done')\n"
   ]
  },
  {
   "cell_type": "markdown",
   "id": "4639f7c9-5398-4598-9157-9de7d0baddc7",
   "metadata": {},
   "source": [
    "- We have added subject column for EDA only, it will not be useful for tsne, drop it.\n",
    "- we are applying tsne on activity. Use activity as a y label. "
   ]
  },
  {
   "cell_type": "code",
   "execution_count": null,
   "id": "c9038f1c-e34b-4520-874f-afa1d6605853",
   "metadata": {},
   "outputs": [],
   "source": [
    "X_pre_tsne = train.drop(['subject','Activity'], axis=1)\n",
    "y_pre_tsne = train['Activity']\n",
    "perform_tsne(X_data = X_pre_tsne,y_data=y_pre_tsne, perplexities =[2,5,10])"
   ]
  },
  {
   "cell_type": "markdown",
   "id": "2c4d8d6b-126d-41c1-83b6-26ea71bb16d3",
   "metadata": {},
   "source": [
    "### Observations:\n",
    "- From above plot we can clearly distinguish all the activities, excluding standing and sitting. These two activities are overlapping with each other.\n",
    "- After building a model may be it will be difficult for model to distinguish these 2 classes.\n",
    "- Le't check..."
   ]
  },
  {
   "cell_type": "markdown",
   "id": "80d9e4f2-7e0b-4c68-8086-707a96e119c7",
   "metadata": {},
   "source": [
    "# Make data model ready"
   ]
  },
  {
   "cell_type": "code",
   "execution_count": null,
   "id": "b1a8b9fc-039e-467d-9448-587344b9b5b5",
   "metadata": {},
   "outputs": [],
   "source": [
    "# get X_test and y_test from train csv file\n",
    "X_train = train.drop(['subject', 'Activity'], axis=1)\n",
    "y_train = train.Activity"
   ]
  },
  {
   "cell_type": "code",
   "execution_count": null,
   "id": "8f16e9ef-ff3d-4dc9-81da-e58d38da101b",
   "metadata": {},
   "outputs": [],
   "source": [
    "# get X_test and y_test from test csv file\n",
    "X_test = test.drop(['subject', 'Activity'], axis=1)\n",
    "y_test = test.Activity"
   ]
  },
  {
   "cell_type": "code",
   "execution_count": null,
   "id": "80f73db1-ee8c-4019-86a9-fa2433acb85b",
   "metadata": {},
   "outputs": [],
   "source": [
    "print('X_train and y_train : ({},{})'.format(X_train.shape, y_train.shape))\n",
    "print('X_test  and y_test  : ({},{})'.format(X_test.shape, y_test.shape))"
   ]
  },
  {
   "cell_type": "markdown",
   "id": "473636a6-fce7-429a-b0bc-6dd558d6c6cd",
   "metadata": {},
   "source": [
    "# Model Building"
   ]
  },
  {
   "cell_type": "markdown",
   "id": "ebfaf6fc-bd21-4fe1-bde6-db3a7b51d7f1",
   "metadata": {},
   "source": [
    "### Creating a function to run any specified model"
   ]
  },
  {
   "cell_type": "code",
   "execution_count": null,
   "id": "053230bc-1f1e-4e13-b547-2bccdc3f79d7",
   "metadata": {},
   "outputs": [],
   "source": [
    "# This function will return accuracy, normalized confusion matrix, precision, recall, and f1-score.\n",
    "from datetime import datetime\n",
    "from sklearn.model_selection import cross_val_score\n",
    "from sklearn.model_selection import KFold\n",
    "def perform_model(model, X_train, y_train, X_test, y_test, class_labels, cm_normalize=True, \\\n",
    "                 print_cm=True, cm_cmap=plt.cm.Greens):\n",
    "    \n",
    "    \n",
    "    # to store results at various phases\n",
    "    results = dict()\n",
    "    \n",
    "    # time at which model starts training \n",
    "    train_start_time = datetime.now()\n",
    "    print('training the model..')\n",
    "    model.fit(X_train, y_train)\n",
    "    print('Done \\n \\n')\n",
    "    train_end_time = datetime.now()\n",
    "    results['training_time'] =  train_end_time - train_start_time\n",
    "    print('training_time(HH:MM:SS.ms) - {}\\n\\n'.format(results['training_time']))\n",
    "    \n",
    "    \n",
    "    # predict test data\n",
    "    print('Predicting test data')\n",
    "    test_start_time = datetime.now()\n",
    "    y_pred = model.predict(X_test)\n",
    "    test_end_time = datetime.now()\n",
    "    print('Done \\n \\n')\n",
    "    results['testing_time'] = test_end_time - test_start_time\n",
    "    print('testing time(HH:MM:SS:ms) - {}\\n\\n'.format(results['testing_time']))\n",
    "    results['predicted'] = y_pred\n",
    "   \n",
    "\n",
    "    # calculate overall accuracty of the model\n",
    "    accuracy = metrics.accuracy_score(y_true=y_test, y_pred=y_pred)\n",
    "    # store accuracy in results\n",
    "    results['accuracy'] = accuracy\n",
    "    print('----------------------')\n",
    "    print('|      Accuracy      |')\n",
    "    print('----------------------')\n",
    "    print('\\n    {}\\n\\n'.format(accuracy))\n",
    "    \n",
    "    # calculate overall precision of the model\n",
    "    precision = metrics.precision_score(y_true=y_test, y_pred=y_pred, average=\"weighted\")\n",
    "    # store precision in results\n",
    "    results['precision'] = precision\n",
    "    print('-----------------------')\n",
    "    print('|      Precision      |')\n",
    "    print('-----------------------')\n",
    "    print('\\n    {}\\n\\n'.format(precision))\n",
    "    \n",
    "    # calculate overall recall of the model\n",
    "    recall = metrics.recall_score(y_true=y_test, y_pred=y_pred, average=\"weighted\")\n",
    "    # store recall in results\n",
    "    results['recall'] = recall\n",
    "    print('--------------------')\n",
    "    print('|      Recall      |')\n",
    "    print('--------------------')\n",
    "    print('\\n    {}\\n\\n'.format(recall))\n",
    "    \n",
    "    \n",
    "    # calculate overall F1 score of the model\n",
    "    f1 = metrics.f1_score(y_true=y_test, y_pred=y_pred, average=\"weighted\")\n",
    "    # store F1 score in results\n",
    "    results['f1'] = f1\n",
    "    print('----------------------')\n",
    "    print('|      F1 Score      |')\n",
    "    print('----------------------')\n",
    "    print('\\n    {}\\n\\n'.format(f1))\n",
    "    \n",
    "    \n",
    "    \n",
    "    \n",
    "    # confusion matrix\n",
    "    cm = metrics.confusion_matrix(y_test, y_pred)\n",
    "    results['confusion_matrix'] = cm\n",
    "    if print_cm: \n",
    "        print('--------------------')\n",
    "        print('| Confusion Matrix |')\n",
    "        print('--------------------')\n",
    "        print('\\n {}\\n\\n'.format(cm))\n",
    "    \n",
    "    # sensitivity and specificity\n",
    "    def calc_sensitivity(confusion_matrix):\n",
    "        \"\"\"Calculate sensitivity (true positive rate) from a confusion matrix.\"\"\"\n",
    "        tp = confusion_matrix[1, 1]\n",
    "        fn = confusion_matrix[1, 0]\n",
    "        sensitivity = tp / (tp + fn)\n",
    "        return sensitivity\n",
    "\n",
    "    def calc_specificity(confusion_matrix):\n",
    "        \"\"\"Calculate specificity (true negative rate) from a confusion matrix.\"\"\"\n",
    "        tn = confusion_matrix[0, 0]\n",
    "        fp = confusion_matrix[0, 1]\n",
    "        specificity = tn / (tn + fp)\n",
    "        return specificity\n",
    "    \n",
    "    sensitivity = calc_sensitivity(cm)\n",
    "    specificity = calc_specificity(cm)\n",
    "    \n",
    "    # store sensitivity and specificity in results\n",
    "    results['sensitivity']=sensitivity\n",
    "    results['specificity']=specificity\n",
    "    \n",
    "    print('---------------')\n",
    "    print('| Sensitivity |')\n",
    "    print('---------------')\n",
    "    print('\\n {}\\n\\n'.format(sensitivity))\n",
    "    \n",
    "    print('---------------')\n",
    "    print('| Specificity |')\n",
    "    print('---------------')\n",
    "    print('\\n {}\\n\\n'.format(specificity))\n",
    "    \n",
    "    # true positives, true negatives, false positives and false negatives\n",
    "    def tp_tn_fp_fn(confusion_matrix):\n",
    "        TN = cm[1][0]\n",
    "        FN = cm[0][0]\n",
    "        TP = cm[1][1]\n",
    "        FP = cm[0][1]\n",
    "        print('--------------------------------------------------------------------')\n",
    "        print('| True Positive, True Negative, False Positive and False Negatives |')\n",
    "        print('--------------------------------------------------------------------\\n')\n",
    "        \n",
    "        # store TP,NP,FP,TN in results\n",
    "        results['TP']=TP\n",
    "        results['TN']=TN\n",
    "        results['FP']=FP\n",
    "        results['FN']=FN\n",
    "        \n",
    "        \n",
    "        print(\"True Positive :\",TP)\n",
    "        print(\"True Negative :\",TN)\n",
    "        print(\"False Positive :\",FP)\n",
    "        print(\"False Negative :\",FN)\n",
    "        \n",
    "        # Print rates of true positives, true negatives, false positives and false negatives\n",
    "   \n",
    "        TPR = TP/(TP+FN)\n",
    "        TNR = TN/(TN+FP)\n",
    "        FPR = FP/(FP+TN)\n",
    "        FNR = FN/(TP+FN)\n",
    "        \n",
    "        # store rates in results\n",
    "        results['TPR']=TPR\n",
    "        results['TNR']=TNR\n",
    "        results['FPR']=FPR\n",
    "        results['FNR']=FNR\n",
    "        \n",
    "        print('\\n\\n---------------------------------------------------------------------------')\n",
    "        print('| Rate of True Positive, True Negative, False Positive and False Negative |')\n",
    "        print('---------------------------------------------------------------------------\\n')\n",
    "        print(\"True Positive Rate :\",TPR)\n",
    "        print(\"True Negative Rate :\",TNR)\n",
    "        print(\"False Positive Rate :\",FPR)\n",
    "        print(\"False Negative Rate :\",FNR)\n",
    "        \n",
    "\n",
    "        # Print predictive value of positive and negative predictions\n",
    "        PPV = TP/(TP+FP)\n",
    "        NPV = TN/(TN+FN)\n",
    "        \n",
    "        # store PPV and NPV in results\n",
    "        results['PPV']=PPV\n",
    "        results['NPV']=NPV\n",
    "        \n",
    "        print('\\n\\n---------------------------------------------------------')\n",
    "        print('| Predictive Value of Positive and Negative Predictions |')\n",
    "        print('---------------------------------------------------------\\n')\n",
    "        print(\"Positive Predictive Value :\",PPV)\n",
    "        print(\"Negative predictive value :\",NPV)\n",
    "        \n",
    "    tp_tn_fp_fn(cm)\n",
    "    \n",
    "        \n",
    "    # plot confusin matrix\n",
    "    plt.figure(figsize=(8,8))\n",
    "    plt.grid(b=False)\n",
    "    plot_confusion_matrix(cm, classes=class_labels, normalize=True, title='Normalized confusion matrix', cmap = cm_cmap)\n",
    "    plt.show()\n",
    "    \n",
    "    # get classification report\n",
    "    print('\\n\\n------------------------')\n",
    "    print('| Classifiction Report |')\n",
    "    print('------------------------')\n",
    "    classification_report = metrics.classification_report(y_test, y_pred)\n",
    "    # store report in results\n",
    "    results['classification_report'] = classification_report\n",
    "    print(classification_report)\n",
    "    \n",
    "\n",
    "\n",
    "    # Define function to print model attributes and cross-validation results\n",
    "    def print_attributes(model):\n",
    "\n",
    "        test_encoded = pd.get_dummies(test)\n",
    "\n",
    "        # Ensure that test set has same features as training set\n",
    "        missing_cols = set(X_train.columns) - set(test_encoded.columns)\n",
    "        for col in missing_cols:\n",
    "            test_encoded[col] = 0\n",
    "        test_encoded = test_encoded[X_train.columns]\n",
    "\n",
    "        # Set up cross-validation using 5 folds\n",
    "        kf = KFold(n_splits=5, shuffle=True, random_state=42)\n",
    "\n",
    "        # Initialize list to store cross-validation scores\n",
    "        scores = []\n",
    "\n",
    "        # Perform cross-validation\n",
    "        for train_index, val_index in kf.split(X_train):\n",
    "            # Split training data into training and validation sets\n",
    "            X_train_fold, X_val_fold = X_train.iloc[train_index], X_train.iloc[val_index]\n",
    "            y_train_fold, y_val_fold = y_train.iloc[train_index], y_train.iloc[val_index]\n",
    "\n",
    "            # Fit Logistic Regression model on training data\n",
    "            model.fit(X_train_fold, y_train_fold)\n",
    "\n",
    "            # Evaluate model performance on validation data\n",
    "            score = model.score(X_val_fold, y_val_fold)\n",
    "            scores.append(score)\n",
    "\n",
    "        # Compute mean cross-validation score\n",
    "        mean_score = sum(scores) / len(scores)\n",
    "\n",
    "        # Fit Logistic Regression model on entire training data and make predictions on test data\n",
    "        model.fit(X_train, y_train)\n",
    "\n",
    "        y_pred = model.predict(test_encoded)\n",
    "\n",
    "\n",
    "        # store test set predictions in results\n",
    "        test_set_predictions = y_pred\n",
    "        results['test_set_predictions'] = test_set_predictions\n",
    "\n",
    "\n",
    "        print('\\n\\n---------------------------')\n",
    "        print('|   Test set predictions  |')\n",
    "        print('---------------------------\\n')\n",
    "        print(f\"{test_set_predictions}\")\n",
    "\n",
    "        # store test set predictions in results\n",
    "        cross_validation_scores=scores\n",
    "        results['cross_validation_scores'] = cross_validation_scores\n",
    "\n",
    "        print('\\n\\n-------------------------------')\n",
    "        print('|   Cross-Validation Results  |')\n",
    "        print('-------------------------------')\n",
    "        print(f\"\\n{cross_validation_scores}\")\n",
    "\n",
    "        # store mean accuracy of cross validation scores in results\n",
    "\n",
    "        mean_accuracy=mean_score\n",
    "        results['mean_accuracy'] = mean_accuracy\n",
    "\n",
    "        print('\\n\\n--------------------')\n",
    "        print('|   Mean Accuracy  |')\n",
    "        print('--------------------')\n",
    "        print(f\"\\n{mean_accuracy:.2f}\")\n",
    "\n",
    "        # store standard deviation of scores in results    \n",
    "        standard_deviation=np.std(scores)\n",
    "        results['standard_deviation'] = standard_deviation\n",
    "\n",
    "        print('\\n\\n-------------------------')\n",
    "        print('|   Standard Deviation  |')\n",
    "        print('-------------------------')\n",
    "        print(f\"\\n{standard_deviation:.4f}\")\n",
    "\n",
    "        # store cross validation accuracy in results    \n",
    "        cross_val_accuracy=mean_score*100\n",
    "        results['cross_val_accuracy'] = cross_val_accuracy\n",
    "\n",
    "        print('\\n\\n---------------')\n",
    "        print('|   Accuracy  |')\n",
    "        print('---------------')\n",
    "        print(f\"\\n{cross_val_accuracy}\")\n",
    "    print_attributes(model)\n",
    "\n",
    "    \n",
    "    # add the trained  model to the results\n",
    "    results['model'] = model\n",
    "    \n",
    "    return results\n",
    "    "
   ]
  },
  {
   "cell_type": "code",
   "execution_count": null,
   "id": "aec327d1-dbed-4ec4-bf7e-fe3fce033b00",
   "metadata": {},
   "outputs": [],
   "source": []
  },
  {
   "cell_type": "markdown",
   "id": "67e8f29c-a2d1-4fab-bf0b-7a8df1d74389",
   "metadata": {},
   "source": [
    "### Function to print the gridsearch Attributes"
   ]
  },
  {
   "cell_type": "code",
   "execution_count": null,
   "id": "6fbb8dec-00cc-46e9-a3b8-b7efb511b22f",
   "metadata": {
    "tags": []
   },
   "outputs": [],
   "source": [
    "# This fuction returns best parameters after applying gridsearch\n",
    "def print_grid_search_attributes(model):\n",
    "    # Estimator that gave highest score among all the estimators formed in GridSearch\n",
    "    print('--------------------------')\n",
    "    print('|      Best Estimator     |')\n",
    "    print('--------------------------')\n",
    "    print('\\n\\t{}\\n'.format(model.best_estimator_))\n",
    "\n",
    "\n",
    "    # parameters that gave best results while performing grid search\n",
    "    print('--------------------------')\n",
    "    print('|     Best parameters     |')\n",
    "    print('--------------------------')\n",
    "    print('\\tParameters of best estimator : \\n\\n\\t{}\\n'.format(model.best_params_))\n",
    "\n",
    "\n",
    "    #  number of cross validation splits\n",
    "    print('---------------------------------')\n",
    "    print('|   No of CrossValidation sets   |')\n",
    "    print('--------------------------------')\n",
    "    print('\\n\\tTotal numbre of cross validation sets: {}\\n'.format(model.n_splits_))\n",
    "\n",
    "\n",
    "    # Average cross validated score of the best estimator, from the Grid Search \n",
    "    print('--------------------------')\n",
    "    print('|        Best Score       |')\n",
    "    print('--------------------------')\n",
    "    print('\\n\\tAverage Cross Validate scores of best estimator : \\n\\n\\t{}\\n'.format(model.best_score_))\n"
   ]
  },
  {
   "cell_type": "markdown",
   "id": "fe0292bc-4167-4f46-bf65-e94c1fa99e3d",
   "metadata": {},
   "source": [
    "### Function to plot the confusion matrix"
   ]
  },
  {
   "cell_type": "code",
   "execution_count": null,
   "id": "4b5c102b-efc4-4f89-9c3e-cdc77fe09e83",
   "metadata": {},
   "outputs": [],
   "source": [
    "# Labels that are useful in plotting confusion matrix\n",
    "labels=['LAYING', 'SITTING','STANDING','WALKING','WALKING_DOWNSTAIRS','WALKING_UPSTAIRS']"
   ]
  },
  {
   "cell_type": "code",
   "execution_count": null,
   "id": "df153fab-78b6-49b3-aabf-f82add63eba9",
   "metadata": {},
   "outputs": [],
   "source": [
    "import itertools\n",
    "from sklearn.metrics import confusion_matrix\n",
    "\n",
    "# This fuction print confusion matrix\n",
    "def plot_confusion_matrix(cm, classes,\n",
    "                          normalize=False,\n",
    "                          title='Confusion matrix',\n",
    "                          cmap=plt.cm.Blues):\n",
    "    if normalize:\n",
    "        cm = cm.astype('float') / cm.sum(axis=1)[:, np.newaxis]\n",
    "\n",
    "    plt.imshow(cm, interpolation='nearest', cmap=cmap)\n",
    "    plt.title(title)\n",
    "    plt.colorbar()\n",
    "    tick_marks = np.arange(len(classes))\n",
    "    plt.xticks(tick_marks, classes, rotation=90)\n",
    "    plt.yticks(tick_marks, classes)\n",
    "\n",
    "    fmt = '.2f' if normalize else 'd'\n",
    "    thresh = cm.max() / 2.\n",
    "    for i, j in itertools.product(range(cm.shape[0]), range(cm.shape[1])):\n",
    "        plt.text(j, i, format(cm[i, j], fmt),\n",
    "                 horizontalalignment=\"center\",\n",
    "                 color=\"white\" if cm[i, j] > thresh else \"black\")\n",
    "\n",
    "    plt.tight_layout()\n",
    "    plt.ylabel('True label')\n",
    "    plt.xlabel('Predicted label')"
   ]
  },
  {
   "cell_type": "markdown",
   "id": "0a59a4d1-5ed1-430c-99c5-4adde88e5133",
   "metadata": {},
   "source": [
    "## 1. Logistic Regression"
   ]
  },
  {
   "cell_type": "code",
   "execution_count": null,
   "id": "0abff21f-2c6d-45e2-ab2a-f7038e141140",
   "metadata": {},
   "outputs": [],
   "source": [
    "from sklearn import linear_model\n",
    "from sklearn import metrics\n",
    "\n",
    "log_reg = linear_model.LogisticRegression()\n",
    "log_reg_results =  perform_model(log_reg, X_train, y_train, X_test, y_test, class_labels=labels)"
   ]
  },
  {
   "cell_type": "code",
   "execution_count": null,
   "id": "1aee610c-95d4-4e30-a882-f99c88ed4c0f",
   "metadata": {},
   "outputs": [],
   "source": [
    "# plot confusion matrix\n",
    "plt.figure(figsize=(8,8))\n",
    "plt.grid(b=False)\n",
    "plot_confusion_matrix(log_reg_results['confusion_matrix'], classes=labels, cmap=plt.cm.Greens, )\n",
    "plt.show()"
   ]
  },
  {
   "cell_type": "markdown",
   "id": "b3202675-dec4-460c-a639-33efa518498d",
   "metadata": {},
   "source": [
    "### Observations:\n",
    "- We got 98.25% test accuracy.\n",
    "- From confusion matrix we can clearly see that, there are more wrong predictions between standing and sitting classes. By observing tsne plot we have observed that these two classes are overlapped."
   ]
  },
  {
   "cell_type": "markdown",
   "id": "f56c8f06-2914-4c1a-bbdf-ff78d4da0a0b",
   "metadata": {},
   "source": [
    "## 2. Linear SVC"
   ]
  },
  {
   "cell_type": "code",
   "execution_count": null,
   "id": "b649ca30-3dd6-47f1-b01f-eddf2466c4ca",
   "metadata": {},
   "outputs": [],
   "source": [
    "from sklearn.svm import LinearSVC\n",
    "\n",
    "lr_svc = LinearSVC(tol=0.00005,max_iter=2000)\n",
    "lr_svc_results = perform_model(lr_svc, X_train, y_train, X_test, y_test, class_labels=labels)"
   ]
  },
  {
   "cell_type": "code",
   "execution_count": null,
   "id": "9c591f2c-716a-473e-b239-99800b7835a5",
   "metadata": {},
   "outputs": [],
   "source": [
    "# plot confusion matrix\n",
    "plt.figure(figsize=(8,8))\n",
    "plt.grid(b=False)\n",
    "plot_confusion_matrix(lr_svc_results['confusion_matrix'], classes=labels, cmap=plt.cm.Greens, )\n",
    "plt.show()"
   ]
  },
  {
   "cell_type": "markdown",
   "id": "361edc20-ac21-42ca-9964-607069a36b92",
   "metadata": {},
   "source": [
    "### Observations:\n",
    "- We got 98.68% test accuracy.\n",
    "- From confusion matrix we can clearly see that, there are more wrong predictions between standing and sitting classes.By observing tsne plot we have observed that these two classes are overlapped. \n",
    "- And also there are few wrong predictions between walking, walking downstairs and walking upstairs classes. By observing tsne plot we have observed that these three classes are overlapped."
   ]
  },
  {
   "cell_type": "markdown",
   "id": "cf4fc96a-d0ca-4909-87d7-9e83300d4947",
   "metadata": {},
   "source": [
    "## 3. SVM"
   ]
  },
  {
   "cell_type": "code",
   "execution_count": null,
   "id": "41bfc647-9bcd-4997-bf2e-851642d9c255",
   "metadata": {},
   "outputs": [],
   "source": [
    "from sklearn.svm import SVC\n",
    "\n",
    "rbf_svm = SVC(kernel='rbf')\n",
    "rbf_svm_results = perform_model(rbf_svm, X_train, y_train, X_test, y_test, class_labels=labels)"
   ]
  },
  {
   "cell_type": "code",
   "execution_count": null,
   "id": "46a48104-5b41-403b-a07e-04e6ea824bde",
   "metadata": {},
   "outputs": [],
   "source": [
    "# plot confusion matrix\n",
    "plt.figure(figsize=(8,8))\n",
    "plt.grid(b=False)\n",
    "plot_confusion_matrix(rbf_svm_results['confusion_matrix'], classes=labels, cmap=plt.cm.Greens, )\n",
    "plt.show()"
   ]
  },
  {
   "cell_type": "markdown",
   "id": "badfa498-46b2-4ffa-a6c3-5118789110cb",
   "metadata": {},
   "source": [
    "### Observations:\n",
    "- We got 97.07% test accuracy.\n",
    "- From confusion matrix we can clearly see that, there are more wrong predictions between standing and sitting classes.By observing tsne plot we have observed that these two classes are overlapped. \n",
    "- And also there are more wrong predictions between walking, walking downstairs and walking upstairs classes. By observing tsne plot we have observed that these three classes are overlapped."
   ]
  },
  {
   "cell_type": "markdown",
   "id": "7d45d9f1-2ba7-4aab-8694-aafd8ff75a06",
   "metadata": {},
   "source": [
    "## 4. Decision Tree"
   ]
  },
  {
   "cell_type": "code",
   "execution_count": null,
   "id": "8b63abdd-a38a-408e-9ba6-50683de32902",
   "metadata": {},
   "outputs": [],
   "source": [
    "from sklearn.tree import DecisionTreeClassifier\n",
    "\n",
    "dt = DecisionTreeClassifier()\n",
    "dt_results = perform_model(dt, X_train, y_train, X_test, y_test, class_labels=labels)"
   ]
  },
  {
   "cell_type": "code",
   "execution_count": null,
   "id": "48d73034-a97c-4e30-a8ed-17d7fd6c0209",
   "metadata": {},
   "outputs": [],
   "source": [
    "# plot confusion matrix\n",
    "plt.figure(figsize=(8,8))\n",
    "plt.grid(b=False)\n",
    "plot_confusion_matrix(dt_results['confusion_matrix'], classes=labels, cmap=plt.cm.Greens, )\n",
    "plt.show()"
   ]
  },
  {
   "cell_type": "markdown",
   "id": "d6cbda81-28e5-453c-b8c1-8549557e6d6d",
   "metadata": {},
   "source": [
    "### Observations:\n",
    "- We got 93.67% test accuracy.\n",
    "- From confusion matrix we can clearly see that, there are large number of wrong predictions between standing and sitting classes.By observing tsne plot we have observed that these two classes are overlapped. \n",
    "- And also there are more wrong predictions between walking, walking downstairs and walking upstairs classes. By observing tsne plot we have observed that these three classes are overlapped."
   ]
  },
  {
   "cell_type": "markdown",
   "id": "d06c966a-ce60-4127-ac02-c9499b6f68b7",
   "metadata": {},
   "source": [
    "## 5. Random Forest"
   ]
  },
  {
   "cell_type": "code",
   "execution_count": null,
   "id": "65433279-7c67-4267-81ab-f99ea1a5b118",
   "metadata": {},
   "outputs": [],
   "source": [
    "from sklearn.ensemble import RandomForestClassifier\n",
    "\n",
    "rfc = RandomForestClassifier()\n",
    "rfc_results = perform_model(rfc, X_train, y_train, X_test, y_test, class_labels=labels)"
   ]
  },
  {
   "cell_type": "code",
   "execution_count": null,
   "id": "69385261-9c49-447a-9e59-eb5c03ab2413",
   "metadata": {},
   "outputs": [],
   "source": [
    "# plot confusion matrix\n",
    "plt.figure(figsize=(8,8))\n",
    "plt.grid(b=False)\n",
    "plot_confusion_matrix(rfc_results['confusion_matrix'], classes=labels, cmap=plt.cm.Greens, )\n",
    "plt.show()"
   ]
  },
  {
   "cell_type": "markdown",
   "id": "980a64fa-201d-47d0-a577-6fa1bdc333f3",
   "metadata": {},
   "source": [
    "### Observations:\n",
    "- We got 98.01% test accuracy.\n",
    "- From confusion matrix we can clearly see that, there are more of wrong predictions between standing and sitting classes.By observing tsne plot we have observed that these two classes are overlapped. \n",
    "- And also there are more wrong predictions between walking, walking downstairs and walking upstairs classes. By observing tsne plot we have observed that these three classes are overlapped."
   ]
  },
  {
   "cell_type": "markdown",
   "id": "2a8183e1-5489-485e-b1ff-d84c9e52edfd",
   "metadata": {},
   "source": [
    "## 6. Gradient Boosted Decision Tree"
   ]
  },
  {
   "cell_type": "code",
   "execution_count": null,
   "id": "71623bff-696c-417b-a27f-5d2aea5deba2",
   "metadata": {},
   "outputs": [],
   "source": [
    "from sklearn.ensemble import GradientBoostingClassifier\n",
    "\n",
    "gbdt = GradientBoostingClassifier()\n",
    "gbdt_results = perform_model(gbdt, X_train, y_train, X_test, y_test, class_labels=labels)"
   ]
  },
  {
   "cell_type": "code",
   "execution_count": null,
   "id": "5ab8ad1a-6555-4aee-b48a-3c7cc02cf8a1",
   "metadata": {},
   "outputs": [],
   "source": [
    "# plot confusion matrix\n",
    "plt.figure(figsize=(8,8))\n",
    "plt.grid(b=False)\n",
    "plot_confusion_matrix(gbdt_results['confusion_matrix'], classes=labels, cmap=plt.cm.Greens, )\n",
    "plt.show()"
   ]
  },
  {
   "cell_type": "markdown",
   "id": "baf7072f-fd5d-44be-ac47-11275a1f65ce",
   "metadata": {},
   "source": [
    "### Observations:\n",
    "- We got 98.84% test accuracy.\n",
    "- From confusion matrix we can clearly see that, there are large number of wrong predictions between standing and sitting classes.By observing tsne plot we have observed that these two classes are overlapped. \n",
    "- And also there are few wrong predictions between walking, walking downstairs and walking upstairs classes. By observing tsne plot we have observed that these three classes are overlapped."
   ]
  },
  {
   "cell_type": "markdown",
   "id": "e3604e78-9539-4264-81db-d3a7d8e7324b",
   "metadata": {},
   "source": [
    "## 7. KNN"
   ]
  },
  {
   "cell_type": "code",
   "execution_count": null,
   "id": "cf3ae8b7-cb28-4db5-8302-1b2a280b4e90",
   "metadata": {},
   "outputs": [],
   "source": [
    "from sklearn.neighbors import KNeighborsClassifier\n",
    "\n",
    "knn = KNeighborsClassifier()\n",
    "knn_results = perform_model(knn, X_train, y_train, X_test, y_test, class_labels=labels)"
   ]
  },
  {
   "cell_type": "code",
   "execution_count": null,
   "id": "f413979e-0567-4f9d-a68a-988562cf4db9",
   "metadata": {},
   "outputs": [],
   "source": [
    "# plot confusion matrix\n",
    "plt.figure(figsize=(8,8))\n",
    "plt.grid(b=False)\n",
    "plot_confusion_matrix(knn_results['confusion_matrix'], classes=labels, cmap=plt.cm.Greens, )\n",
    "plt.show()"
   ]
  },
  {
   "cell_type": "markdown",
   "id": "9ec4650b-8f74-4674-acfd-247c01480c11",
   "metadata": {},
   "source": [
    "### Observations:\n",
    "- We got 96.50% test accuracy.\n",
    "- From confusion matrix we can clearly see that, there are large number of wrong predictions between standing and sitting classes.By observing tsne plot we have observed that these two classes are overlapped. \n",
    "- And also there are more wrong predictions between walking, walking downstairs and walking upstairs classes. By observing tsne plot we have observed that these three classes are overlapped."
   ]
  },
  {
   "cell_type": "markdown",
   "id": "fa2b762b-3b0c-417d-b842-e77e5d3055ca",
   "metadata": {},
   "source": [
    "## 1. Logistic Regression with Grid Search"
   ]
  },
  {
   "cell_type": "code",
   "execution_count": null,
   "id": "e15c9ae7-22e1-40ea-89b6-2086641ec532",
   "metadata": {},
   "outputs": [],
   "source": [
    "from sklearn import linear_model\n",
    "from sklearn import metrics\n",
    "from sklearn.model_selection import GridSearchCV"
   ]
  },
  {
   "cell_type": "code",
   "execution_count": null,
   "id": "ca877318-f3cf-4351-95b6-ac5c5519144c",
   "metadata": {},
   "outputs": [],
   "source": [
    "# start Grid search\n",
    "parameters = {'C':[0.01, 0.1, 1, 10, 20, 30], 'penalty':['l2','l1']}\n",
    "log_reg = linear_model.LogisticRegression()\n",
    "log_reg_grid = GridSearchCV(log_reg, param_grid=parameters, cv=3, verbose=1, n_jobs=-1)\n",
    "log_reg_grid_results =  perform_model(log_reg_grid, X_train, y_train, X_test, y_test, class_labels=labels)"
   ]
  },
  {
   "cell_type": "code",
   "execution_count": null,
   "id": "723680bd-8f51-4352-aa83-eb9fa4aed7c7",
   "metadata": {},
   "outputs": [],
   "source": [
    "# plot confusion matrix\n",
    "plt.figure(figsize=(8,8))\n",
    "plt.grid(b=False)\n",
    "plot_confusion_matrix(log_reg_grid_results['confusion_matrix'], classes=labels, cmap=plt.cm.Greens, )\n",
    "plt.show()"
   ]
  },
  {
   "cell_type": "code",
   "execution_count": null,
   "id": "edabc7f7-9e46-44e0-9f03-a5584ba9abce",
   "metadata": {},
   "outputs": [],
   "source": [
    "# observe the attributes of the model \n",
    "print_grid_search_attributes(log_reg_grid_results['model'])"
   ]
  },
  {
   "cell_type": "markdown",
   "id": "4b2f900f-8ea7-4b7f-82be-ce4064b7ad50",
   "metadata": {},
   "source": [
    "### Observations:\n",
    "- We got 93.78% test accuracy.\n",
    "- From confusion matrix we can clearly see that, there are more wrong predictions between standing and sitting classes. By observing tsne plot we have observed that these two classes are overlapped."
   ]
  },
  {
   "cell_type": "markdown",
   "id": "95606bf9-e37c-42eb-9ddc-c4100d0bb186",
   "metadata": {},
   "source": [
    "## 2. Linear SVC with GridSearch"
   ]
  },
  {
   "cell_type": "code",
   "execution_count": null,
   "id": "2f948c41-89ca-4de8-b267-e98d9225ec4a",
   "metadata": {},
   "outputs": [],
   "source": [
    "from sklearn.svm import LinearSVC\n",
    "parameters = {'C':[0.125, 0.5, 1, 2, 8, 16]}\n",
    "lr_svc = LinearSVC(tol=0.00005,max_iter=2000)\n",
    "lr_svc_grid = GridSearchCV(lr_svc, param_grid=parameters, n_jobs=-1, verbose=1)\n",
    "lr_svc_grid_results = perform_model(lr_svc_grid, X_train, y_train, X_test, y_test, class_labels=labels)"
   ]
  },
  {
   "cell_type": "code",
   "execution_count": null,
   "id": "8c23eb58-edce-4fd2-a8c5-c78058b17e75",
   "metadata": {},
   "outputs": [],
   "source": [
    "# plot confusion matrix\n",
    "plt.figure(figsize=(8,8))\n",
    "plt.grid(b=False)\n",
    "plot_confusion_matrix(lr_svc_grid_results['confusion_matrix'], classes=labels, cmap=plt.cm.Greens, )\n",
    "plt.show()"
   ]
  },
  {
   "cell_type": "code",
   "execution_count": null,
   "id": "b5915702-4940-4862-bdd1-c1e8e2f99a71",
   "metadata": {},
   "outputs": [],
   "source": [
    "print_grid_search_attributes(lr_svc_grid_results['model'])"
   ]
  },
  {
   "cell_type": "markdown",
   "id": "0c500a54-5167-4ee2-b13c-db45f37f6e3e",
   "metadata": {},
   "source": [
    "### Observations:\n",
    "- We got 94.23% test accuracy.\n",
    "- Here also in confusion matrix we can clearly see that, there are more wrong predictions between standing and sitting classes. By observing tsne plot we have observed that these two classes are overlapped."
   ]
  },
  {
   "cell_type": "markdown",
   "id": "1b803778-02cc-46e3-bf8e-9954eb4a71db",
   "metadata": {},
   "source": [
    "## 3. Kernel SVM with GridSearch"
   ]
  },
  {
   "cell_type": "code",
   "execution_count": null,
   "id": "7d3c5bae-1715-43e4-8825-9b14ed3447e8",
   "metadata": {},
   "outputs": [],
   "source": [
    "from sklearn.svm import SVC\n",
    "parameters = {'C':[2,8,16],\\\n",
    "              'gamma': [ 0.0078125, 0.125, 2]}\n",
    "rbf_svm = SVC(kernel='rbf')\n",
    "rbf_svm_grid = GridSearchCV(rbf_svm,param_grid=parameters, n_jobs=-1)\n",
    "rbf_svm_grid_results = perform_model(rbf_svm_grid, X_train, y_train, X_test, y_test, class_labels=labels)"
   ]
  },
  {
   "cell_type": "code",
   "execution_count": null,
   "id": "620cc6d8-503d-4471-91c0-13f364f8a700",
   "metadata": {},
   "outputs": [],
   "source": [
    "# plot confusion matrix\n",
    "plt.figure(figsize=(8,8))\n",
    "plt.grid(b=False)\n",
    "plot_confusion_matrix(rbf_svm_grid_results['confusion_matrix'], classes=labels, cmap=plt.cm.Greens, )\n",
    "plt.show()"
   ]
  },
  {
   "cell_type": "code",
   "execution_count": null,
   "id": "75919894-3cd6-4ddb-b48d-16cb43458486",
   "metadata": {},
   "outputs": [],
   "source": [
    "print_grid_search_attributes(rbf_svm_grid_results['model'])"
   ]
  },
  {
   "cell_type": "markdown",
   "id": "fcbf2c28-fdec-4ee0-a333-2c7f6a9fb2cf",
   "metadata": {},
   "source": [
    "### Observations:\n",
    "- We got 94.47% test accuracy.\n",
    "- Here also in confusion matrix we can clearly see that, there are more wrong predictions between standing and sitting classes. By observing tsne plot we have observed that these two classes are overlapped."
   ]
  },
  {
   "cell_type": "markdown",
   "id": "710d32f6-8c7f-4d53-816a-7116e997cc2e",
   "metadata": {},
   "source": [
    "### Let's check tree based models can overcome this problem"
   ]
  },
  {
   "cell_type": "markdown",
   "id": "10935578-4037-4363-82d4-64da87125621",
   "metadata": {},
   "source": [
    "## 4. Decision Trees with GridSearchCV"
   ]
  },
  {
   "cell_type": "code",
   "execution_count": null,
   "id": "4cbd9c3c-9f67-4cad-abb8-adf25b66c1d4",
   "metadata": {},
   "outputs": [],
   "source": [
    "from sklearn.tree import DecisionTreeClassifier\n",
    "parameters = {'max_depth':np.arange(3,10,2)}\n",
    "dt = DecisionTreeClassifier()\n",
    "dt_grid = GridSearchCV(dt,param_grid=parameters, n_jobs=-1)\n",
    "dt_grid_results = perform_model(dt_grid, X_train, y_train, X_test, y_test, class_labels=labels)"
   ]
  },
  {
   "cell_type": "code",
   "execution_count": null,
   "id": "ddf52bfa-c029-44a6-9051-1abdfd5edc63",
   "metadata": {},
   "outputs": [],
   "source": [
    "# plot confusion matrix\n",
    "plt.figure(figsize=(8,8))\n",
    "plt.grid(b=False)\n",
    "plot_confusion_matrix(dt_grid_results['confusion_matrix'], classes=labels, cmap=plt.cm.Greens, )\n",
    "plt.show()"
   ]
  },
  {
   "cell_type": "code",
   "execution_count": null,
   "id": "2e4540fd-95bc-4f87-a562-3ff39f8e7b47",
   "metadata": {},
   "outputs": [],
   "source": [
    "print_grid_search_attributes(dt_grid_results['model'])"
   ]
  },
  {
   "cell_type": "markdown",
   "id": "c9625641-2991-4138-9e09-9e6697281122",
   "metadata": {},
   "source": [
    "### Observations:\n",
    "- Got 85.37% accuracy. Accuracy is decreased."
   ]
  },
  {
   "cell_type": "markdown",
   "id": "4003a497-80bf-4fb2-bded-083a0599a211",
   "metadata": {},
   "source": [
    "## 5. Random Forest Classifier with GridSearch"
   ]
  },
  {
   "cell_type": "code",
   "execution_count": null,
   "id": "213dc947-d1bb-465b-a0a6-17ca854a868f",
   "metadata": {},
   "outputs": [],
   "source": [
    "from sklearn.ensemble import RandomForestClassifier\n",
    "params = {'n_estimators': np.arange(10,201,20), 'max_depth':np.arange(3,15,2)}\n",
    "rfc = RandomForestClassifier()\n",
    "rfc_grid = GridSearchCV(rfc, param_grid=params, n_jobs=-1)\n",
    "rfc_grid_results = perform_model(rfc_grid, X_train, y_train, X_test, y_test, class_labels=labels)"
   ]
  },
  {
   "cell_type": "code",
   "execution_count": null,
   "id": "3c4900f0-90ff-4ec4-afcf-7f01ccfb7f20",
   "metadata": {},
   "outputs": [],
   "source": [
    "# plot confusion matrix\n",
    "plt.figure(figsize=(8,8))\n",
    "plt.grid(b=False)\n",
    "plot_confusion_matrix(rfc_grid_results['confusion_matrix'], classes=labels, cmap=plt.cm.Greens, )\n",
    "plt.show()"
   ]
  },
  {
   "cell_type": "code",
   "execution_count": null,
   "id": "fc4448c3-ec7c-416c-add2-434b4f123485",
   "metadata": {},
   "outputs": [],
   "source": [
    "print_grid_search_attributes(rfc_grid_results['model'])"
   ]
  },
  {
   "cell_type": "markdown",
   "id": "5322ca4b-95ef-448b-894d-aea5aa0fdf77",
   "metadata": {},
   "source": [
    "### Observations:\n",
    "- We got 92.31% test accuracy.\n",
    "- Here also in confusion matrix we can clearly see that, there are more wrong predictions between standing and sitting classes. By observing tsne plot we have observed that these two classes are overlapped."
   ]
  },
  {
   "cell_type": "markdown",
   "id": "a16291eb-328b-4603-b976-6de71509019a",
   "metadata": {},
   "source": [
    "## 6. Gradient Boosted Decision Trees With GridSearch"
   ]
  },
  {
   "cell_type": "code",
   "execution_count": null,
   "id": "0c11a15d-5c7f-47e5-9e1e-84324c3779d1",
   "metadata": {},
   "outputs": [],
   "source": [
    "from sklearn.ensemble import GradientBoostingClassifier\n",
    "param_grid = {'max_depth': [1,2,3],\n",
    "             'n_estimators':[100,150,200]}\n",
    "gbdt = GradientBoostingClassifier()\n",
    "gbdt_grid = GridSearchCV(gbdt, param_grid=param_grid, n_jobs=-1)\n",
    "gbdt_grid_results = perform_model(gbdt_grid, X_train, y_train, X_test, y_test, class_labels=labels)"
   ]
  },
  {
   "cell_type": "code",
   "execution_count": null,
   "id": "8e5a32c4-0f91-4e28-901c-ce91a56104f6",
   "metadata": {},
   "outputs": [],
   "source": [
    "# plot confusion matrix\n",
    "plt.figure(figsize=(8,8))\n",
    "plt.grid(b=False)\n",
    "plot_confusion_matrix(gbdt_grid_results['confusion_matrix'], classes=labels, cmap=plt.cm.Greens, )\n",
    "plt.show()"
   ]
  },
  {
   "cell_type": "code",
   "execution_count": null,
   "id": "63e6f1f8-b6ae-4a00-9e51-256bd5090191",
   "metadata": {},
   "outputs": [],
   "source": [
    "print_grid_search_attributes(gbdt_grid_results['model'])"
   ]
  },
  {
   "cell_type": "markdown",
   "id": "f4822f96-3dba-46d2-b999-669859de90b9",
   "metadata": {},
   "source": [
    "## 7. KNN With Grid Search"
   ]
  },
  {
   "cell_type": "code",
   "execution_count": null,
   "id": "fdae89b4-7bac-4e2a-910f-12f74fdb70dd",
   "metadata": {},
   "outputs": [],
   "source": [
    "from sklearn.neighbors import KNeighborsClassifier\n",
    "knn = KNeighborsClassifier()\n",
    "param_grid = {'n_neighbors': [5, 10, 20], 'weights': ['uniform', 'distance']}\n",
    "knn_grid = GridSearchCV(knn, param_grid=param_grid, n_jobs=-1)\n",
    "knn_grid_results = perform_model(knn_grid, X_train, y_train, X_test, y_test, class_labels=labels)"
   ]
  },
  {
   "cell_type": "code",
   "execution_count": null,
   "id": "672e2cc1-2f28-460f-aa62-798e1465e991",
   "metadata": {},
   "outputs": [],
   "source": [
    "# plot confusion matrix\n",
    "plt.figure(figsize=(8,8))\n",
    "plt.grid(b=False)\n",
    "plot_confusion_matrix(knn_grid_results['confusion_matrix'], classes=labels, cmap=plt.cm.Greens, )\n",
    "plt.show()"
   ]
  },
  {
   "cell_type": "code",
   "execution_count": null,
   "id": "6caed2f8-0503-4ee2-8cf5-3faa37aa2f7b",
   "metadata": {},
   "outputs": [],
   "source": [
    "print_grid_search_attributes(knn_grid_results['model'])"
   ]
  },
  {
   "cell_type": "markdown",
   "id": "4c942ffa-1f55-4e4e-830e-fd08b7c5b70f",
   "metadata": {},
   "source": [
    "## 8. Deep learning model"
   ]
  },
  {
   "cell_type": "code",
   "execution_count": null,
   "id": "0e1a6ac4-0e1f-4b42-b26f-c07bb68c4823",
   "metadata": {},
   "outputs": [],
   "source": [
    "# import required liabraries for Nueral Network\n",
    "import tensorflow as tf\n",
    "from tensorflow.keras import utils\n",
    "from tensorflow.keras.initializers import RandomNormal\n",
    "from tensorflow.keras.models import Sequential \n",
    "from tensorflow.keras.layers import Dense, Activation "
   ]
  },
  {
   "cell_type": "code",
   "execution_count": null,
   "id": "eb87c84f-094a-4066-b874-08cddca701b0",
   "metadata": {},
   "outputs": [],
   "source": [
    "from sklearn import preprocessing\n",
    " \n",
    "# label_encoder object knows how to understand word labels.\n",
    "label_encoder = preprocessing.LabelEncoder()\n",
    " \n",
    "# Encode labels in column 'activities'.\n",
    "y_train1 = label_encoder.fit_transform(y_train)\n",
    "y_test1 = label_encoder.transform(y_test)\n",
    " \n",
    "print(y_train1)\n",
    "print(y_test1)"
   ]
  },
  {
   "cell_type": "code",
   "execution_count": null,
   "id": "c31e43b0-3ec4-4aa5-ab16-4f1c9f50e6d1",
   "metadata": {},
   "outputs": [],
   "source": [
    "# here we are having a categorical classes for each activity\n",
    "print(\"Class label of first activity :\", y_train[0])\n",
    "\n",
    "# lets convert this into a 6 dimensional vector\n",
    "# ex: consider a activity is \"standing\" convert it into 2 => [0, 0, 1, 0, 0, 0]\n",
    "# this conversion needed for MLPs \n",
    "\n",
    "Y_train = utils.to_categorical(y_train1, 6) \n",
    "Y_test = utils.to_categorical(y_test1, 6)\n",
    "\n",
    "print(\"After converting the output into a vector : \",Y_train[0])"
   ]
  },
  {
   "cell_type": "code",
   "execution_count": null,
   "id": "b0232ab6-f9f4-469d-89c2-6692b82b5fe5",
   "metadata": {},
   "outputs": [],
   "source": [
    "# some model parameters\n",
    "\n",
    "output_dim = 6\n",
    "input_dim = X_train.shape[1]\n",
    "\n",
    "batch_size = 128 \n",
    "nb_epoch = 50"
   ]
  },
  {
   "cell_type": "code",
   "execution_count": null,
   "id": "72bc66c4-14a7-450e-adc1-9ec33edade0a",
   "metadata": {},
   "outputs": [],
   "source": [
    "# start building a model\n",
    "model = Sequential()\n",
    "model.add(Dense(64, activation='relu', input_shape=(input_dim,), kernel_initializer=RandomNormal(mean=0.0, stddev=0.062, seed=None)))\n",
    "model.add(Dense(12, activation='relu', kernel_initializer=RandomNormal(mean=0.0, stddev=0.125, seed=None)) )\n",
    "model.add(Dense(output_dim, activation='softmax'))\n",
    "\n",
    "print(model.summary())"
   ]
  },
  {
   "cell_type": "code",
   "execution_count": null,
   "id": "9ef015de-98cb-43bf-b8f1-717adea8812e",
   "metadata": {},
   "outputs": [],
   "source": [
    "# Before training a model, we need to configure the learning process, which is done via the compile method\n",
    "model.compile(optimizer='adam', loss='categorical_crossentropy', metrics=['accuracy'])"
   ]
  },
  {
   "cell_type": "code",
   "execution_count": null,
   "id": "22f6dac4-7542-440d-9bef-1a58619ee4f3",
   "metadata": {},
   "outputs": [],
   "source": [
    "# Keras models are trained on Numpy arrays of input data and labels. \n",
    "# For training a model, we will typically use the  fit function\n",
    "history = model.fit(X_train, Y_train, batch_size=batch_size, epochs=nb_epoch, verbose=1)"
   ]
  },
  {
   "cell_type": "code",
   "execution_count": null,
   "id": "370136a5-bce9-4c90-8b10-878f0d7fe3c4",
   "metadata": {},
   "outputs": [],
   "source": [
    "# Evaluate model on test data\n",
    "score = model.evaluate(X_test, Y_test, verbose=0) \n",
    "print('Test score:', score[0]) \n",
    "print('Test accuracy:', score[1])"
   ]
  },
  {
   "cell_type": "code",
   "execution_count": null,
   "id": "9e534512-1f36-4206-91c9-68d8d589e994",
   "metadata": {},
   "outputs": [],
   "source": [
    "# # make predictions on test data\n",
    "# y_pred = model.predict(X_test)\n",
    "\n",
    "# # convert predictions to labels\n",
    "# y_pred = np.argmax(y_pred, axis=1)\n",
    "\n",
    "# # calculate metrics\n",
    "# accuracy = accuracy_score(y_test1, y_pred)\n",
    "# precision = precision_score(y_test1, y_pred, average='macro')\n",
    "# recall = recall_score(y_test1, y_pred, average='macro')\n",
    "# f1 = f1_score(y_test1, y_pred, average='macro')\n",
    "\n",
    "# print('Accuracy:', accuracy)\n",
    "# print('Precision:', precision)\n",
    "# print('Recall:', recall)\n",
    "# print('F1 score:', f1)"
   ]
  },
  {
   "cell_type": "markdown",
   "id": "03fbb625-1252-4753-9c25-7e6929da47fc",
   "metadata": {},
   "source": [
    "#### Note: We are not doing hypertunning on Nueral Network model.\n",
    "\n",
    "There might be chance that accuracy of Deep learning model would be slightly increase after hyprtunning."
   ]
  },
  {
   "cell_type": "markdown",
   "id": "67a607b9-90c1-4cb0-bfbd-03da3d2fc6c0",
   "metadata": {},
   "source": [
    "# 9. Deep learning model with grid search"
   ]
  },
  {
   "cell_type": "code",
   "execution_count": null,
   "id": "2d5dbf4b-1eb2-48df-aeb5-612651dab07f",
   "metadata": {},
   "outputs": [],
   "source": [
    "# # import Keras Tuner\n",
    "# import kerastuner as kt\n",
    "\n",
    "# # define the model building function with hyperparameters to be tuned\n",
    "# def build_model(hp):\n",
    "#   output_dim = 6\n",
    "#   input_dim = X_train.shape[1]\n",
    "\n",
    "#   # define the model architecture with tunable hyperparameters\n",
    "#   model = Sequential()\n",
    "#   model.add(Dense(hp.Int('units', min_value=32, max_value=512, step=32), activation='relu', input_shape=(input_dim,), kernel_initializer=RandomNormal(mean=0.0, stddev=0.062, seed=None)))\n",
    "#   model.add(Dense(hp.Int('units', min_value=32, max_value=512, step=32), activation='relu', kernel_initializer=RandomNormal(mean=0.0, stddev=0.125, seed=None)) )\n",
    "#   model.add(Dense(output_dim, activation='softmax'))\n",
    "\n",
    "#   # compile the model with tunable hyperparameters\n",
    "#   model.compile(optimizer=hp.Choice('optimizer', ['adam', 'rmsprop', 'sgd']), loss='categorical_crossentropy', metrics=['accuracy'])\n",
    "\n",
    "#   return model\n",
    "\n",
    "# # define the tuner object\n",
    "# tuner = kt.Hyperband(\n",
    "#     build_model,\n",
    "#     objective='val_accuracy',\n",
    "#     max_epochs=10,\n",
    "#     hyperband_iterations=2,\n",
    "#     directory='my_dir',\n",
    "#     project_name='my_project')\n",
    "\n",
    "# # define the callbacks for early stopping and tracking the best model\n",
    "# callbacks = [\n",
    "#     tf.keras.callbacks.EarlyStopping(patience=3),\n",
    "#     tf.keras.callbacks.ModelCheckpoint(filepath='best_model.h5', save_best_only=True, save_weights_only=True, monitor='val_accuracy', mode='max')\n",
    "# ]\n",
    "\n",
    "# # perform the hyperparameter tuning\n",
    "# tuner.search(X_train, Y_train, epochs=50, validation_data=(X_test, Y_test), callbacks=callbacks)\n",
    "\n",
    "# # get the best hyperparameters and model\n",
    "# best_hps=tuner.get_best_hyperparameters(num_trials=1)[0]\n",
    "# best_model = tuner.get_best_models(num_models=1)[0]\n",
    "\n",
    "# # train the best model with the full dataset\n",
    "# best_model.fit(X_train, Y_train, batch_size=128, epochs=50, verbose=1)\n",
    "\n",
    "# # Evaluate model on test data\n",
    "# score = best_model.evaluate(X_test, Y_test, verbose=0) \n",
    "# print('Test score:', score[0]) \n",
    "# print('Test accuracy:', score[1])\n"
   ]
  },
  {
   "cell_type": "code",
   "execution_count": null,
   "id": "215af97f-fce3-4017-9347-b0a8c6c326e4",
   "metadata": {},
   "outputs": [],
   "source": [
    "from sklearn.model_selection import GridSearchCV\n",
    "from keras.wrappers.scikit_learn import KerasClassifier\n",
    "from keras.optimizers import Adam\n",
    "\n",
    "# define the model\n",
    "def create_model(hidden_layer_size=64, learning_rate=0.001):\n",
    "    model = Sequential()\n",
    "    model.add(Dense(hidden_layer_size, activation='relu', input_shape=(input_dim,), kernel_initializer=RandomNormal(mean=0.0, stddev=0.062, seed=None)))\n",
    "    model.add(Dense(12, activation='relu', kernel_initializer=RandomNormal(mean=0.0, stddev=0.125, seed=None)) )\n",
    "    model.add(Dense(output_dim, activation='softmax'))\n",
    "    optimizer = Adam(learning_rate=learning_rate)\n",
    "    model.compile(optimizer=optimizer, loss='categorical_crossentropy', metrics=['accuracy'])\n",
    "    return model\n",
    "\n",
    "# create the model\n",
    "model = KerasClassifier(build_fn=create_model, verbose=0)\n",
    "\n",
    "# define the grid search parameters\n",
    "hidden_layer_sizes = [32, 64, 128]\n",
    "learning_rates = [0.001, 0.01, 0.1]\n",
    "param_grid = dict(hidden_layer_size=hidden_layer_sizes, learning_rate=learning_rates)\n",
    "\n",
    "# perform the grid search\n",
    "grid = GridSearchCV(estimator=model, param_grid=param_grid, n_jobs=-1, cv=3)\n",
    "grid_result = grid.fit(X_train, Y_train)\n",
    "\n",
    "# print the results\n",
    "print(\"Best: %f using %s\" % (grid_result.best_score_, grid_result.best_params_))\n",
    "means = grid_result.cv_results_['mean_test_score']\n",
    "stds = grid_result.cv_results_['std_test_score']\n",
    "params = grid_result.cv_results_['params']\n",
    "for mean, std, param in zip(means, stds, params):\n",
    "    print(\"%f (%f) with: %r\" % (mean, std, param))\n"
   ]
  },
  {
   "cell_type": "markdown",
   "id": "6b36224a-bdab-4b33-a46b-b8705c79caeb",
   "metadata": {},
   "source": [
    "# Comparing all models"
   ]
  },
  {
   "cell_type": "code",
   "execution_count": null,
   "id": "f88883c8-b7f4-425a-8a28-48eee0118469",
   "metadata": {},
   "outputs": [],
   "source": [
    "print('\\n                     Accuracy     Error')\n",
    "print('                     ----------   --------')\n",
    "print('Logistic Regression : {:.04}%      {:.04}%'.format(log_reg_results['accuracy'] * 100,\\\n",
    "                                                  100-(log_reg_results['accuracy'] * 100)))\n",
    "\n",
    "print('Linear SVC          : {:.04}%      {:.04}% '.format(lr_svc_results['accuracy'] * 100,\\\n",
    "                                                        100-(lr_svc_results['accuracy'] * 100)))\n",
    "\n",
    "print('rbf SVM classifier  : {:.04}%      {:.04}% '.format(rbf_svm_results['accuracy'] * 100,\\\n",
    "                                                          100-(rbf_svm_results['accuracy'] * 100)))\n",
    "\n",
    "print('DecisionTree        : {:.04}%      {:.04}% '.format(dt_results['accuracy'] * 100,\\\n",
    "                                                        100-(dt_results['accuracy'] * 100)))\n",
    "\n",
    "print('Random Forest       : {:.04}%      {:.04}% '.format(rfc_results['accuracy'] * 100,\\\n",
    "                                                           100-(rfc_results['accuracy'] * 100)))\n",
    "print('GradientBoosting DT : {:.04}%      {:.04}% '.format(gbdt_results['accuracy'] * 100,\\\n",
    "                                                        100-(gbdt_results['accuracy'] * 100)))\n",
    "print('KNN                 : {:.04}%      {:.04}% '.format(knn_results['accuracy'] * 100,\\\n",
    "                                                        100-(knn_results['accuracy'] * 100)))\n",
    "\n",
    "print('                     ----------   --------')\n",
    "print(\"Algorithms with Grid Search\")\n",
    "print('                     ----------   --------')\n",
    "\n",
    "print('Logistic Regression : {:.04}%      {:.04}%'.format(log_reg_grid_results['accuracy'] * 100,\\\n",
    "                                                  100-(log_reg_grid_results['accuracy'] * 100)))\n",
    "\n",
    "print('Linear SVC          : {:.04}%      {:.04}% '.format(lr_svc_grid_results['accuracy'] * 100,\\\n",
    "                                                        100-(lr_svc_grid_results['accuracy'] * 100)))\n",
    "\n",
    "print('rbf SVM classifier  : {:.04}%      {:.04}% '.format(rbf_svm_grid_results['accuracy'] * 100,\\\n",
    "                                                          100-(rbf_svm_grid_results['accuracy'] * 100)))\n",
    "\n",
    "print('DecisionTree        : {:.04}%      {:.04}% '.format(dt_grid_results['accuracy'] * 100,\\\n",
    "                                                        100-(dt_grid_results['accuracy'] * 100)))\n",
    "\n",
    "print('Random Forest       : {:.04}%      {:.04}% '.format(rfc_grid_results['accuracy'] * 100,\\\n",
    "                                                           100-(rfc_grid_results['accuracy'] * 100)))\n",
    "print('GradientBoosting DT : {:.04}%       {:.04}% '.format(gbdt_grid_results['accuracy'] * 100,\\\n",
    "                                                        100-(gbdt_grid_results['accuracy'] * 100)))\n",
    "print('KNN                 : {:.04}%      {:.04}% '.format(knn_grid_results['accuracy'] * 100,\\\n",
    "                                                        100-(knn_grid_results['accuracy'] * 100)))\n",
    "print('Deep Learning       : {:.04}%      {:.04}% '.format(score[1] * 100,\\\n",
    "                                                        100-(score[1] * 100)))"
   ]
  },
  {
   "cell_type": "code",
   "execution_count": null,
   "id": "107313fd-b004-4955-bb98-3bbd8fa9e9b1",
   "metadata": {},
   "outputs": [],
   "source": [
    "# Import library for data visualization\n",
    "import matplotlib.pyplot as plt\n",
    "\n",
    "# Create a list of the algorithms and their corresponding accuracy scores\n",
    "algorithms = [\"Logistic \\n Regression\",\"Linear SVC\", \"SVM\", \"Decision Tree\",\"Random Forest\",\"Gradient Boosting \\nDecision Tree\" ,\"KNN\",\"Deep Learning\"]\n",
    "scores = [log_reg_results['accuracy'] * 100,lr_svc_results['accuracy'] * 100,rbf_svm_results['accuracy'] * 100,dt_results['accuracy'] * 100,rfc_results['accuracy'] * 100,gbdt_results['accuracy'] * 100,knn_results['accuracy'] * 100,score[1] * 100]\n",
    "\n",
    "# Create a bar plot to compare the performance of the different algorithms\n",
    "plt.bar(algorithms, scores)\n",
    "plt.xlabel(\"\\nAlgorithms\")\n",
    "plt.ylabel(\"Accuracy\")\n",
    "plt.title(\"Comparison of Algorithm Performances\")\n",
    "plt.xticks(rotation=90)\n",
    "plt.show()"
   ]
  },
  {
   "cell_type": "code",
   "execution_count": null,
   "id": "a581669e-23a0-46f1-9238-2eb13afd293c",
   "metadata": {},
   "outputs": [],
   "source": [
    "# Import library for data visualization\n",
    "import matplotlib.pyplot as plt\n",
    "\n",
    "# Create a list of the algorithms and their corresponding accuracy scores\n",
    "algorithms = [\"Logistic \\n Regression\",\"Linear SVC\", \"SVM\", \"Decision Tree\",\"Random Forest\",\"Gradient Boosting \\nDecision Tree\", \"KNN\"]\n",
    "scores = [log_reg_grid_results['accuracy'] * 100,lr_svc_grid_results['accuracy'] * 100,rbf_svm_grid_results['accuracy'] * 100,dt_grid_results['accuracy'] * 100,rfc_grid_results['accuracy'] * 100,gbdt_grid_results['accuracy'] * 100, knn_grid_results['accuracy'] * 100]\n",
    "\n",
    "# Create a bar plot to compare the performance of the different algorithms\n",
    "plt.bar(algorithms, scores)\n",
    "plt.xlabel(\"\\nAlgorithms\")\n",
    "plt.ylabel(\"Accuracy\")\n",
    "plt.title(\"Comparison of Algorithm With Grid Search Performances\")\n",
    "plt.xticks(rotation=90)\n",
    "plt.show()"
   ]
  },
  {
   "cell_type": "code",
   "execution_count": null,
   "id": "af891bb1-f23b-40bb-b8c3-434f03e0ac86",
   "metadata": {},
   "outputs": [],
   "source": [
    "# Import library for data visualization\n",
    "import matplotlib.pyplot as plt\n",
    "\n",
    "# Create a list of the algorithms and their corresponding accuracy scores\n",
    "algorithms = [\"Logistic Regression\",\"Linear SVC\", \"SVM\", \"Decision Tree\",\"Random Forest\", \"Gradient Boosting \\nDecision Tree\",\"KNN\",\"Logistic Regression\\n Grid Search\",\"Linear SVC\\n Grid Search\", \"SVM Grid Search\", \"Decision Tree\\n Grid Search\",\"Random Forest\\n Grid Search\",\"GBDT Grid Search\", \"KNN Grid Search\", \"Deep Learning\"]\n",
    "scores = [log_reg_results['accuracy'] * 100,lr_svc_results['accuracy'] * 100,rbf_svm_results['accuracy'] * 100,dt_results['accuracy'] * 100,rfc_results['accuracy'] * 100,gbdt_results['accuracy'] * 100, knn_results['accuracy'] * 100,log_reg_grid_results['accuracy'] * 100,lr_svc_grid_results['accuracy'] * 100,rbf_svm_grid_results['accuracy'] * 100,dt_grid_results['accuracy'] * 100,rfc_grid_results['accuracy'] * 100,gbdt_grid_results['accuracy'] * 100,knn_grid_results['accuracy'] * 100,score[1] * 100]\n",
    "\n",
    "plt.figure(figsize=(14, 6))\n",
    "# Create a bar plot to compare the performance of the different algorithms\n",
    "plt.bar(algorithms, scores)\n",
    "\n",
    "plt.xlabel(\"\\nAlgorithms\")\n",
    "plt.ylabel(\"Accuracy\")\n",
    "plt.title(\"Comparison of Algorithm Performances Based on Accuracy\")\n",
    "plt.xticks(rotation=90)\n",
    "\n",
    "plt.show()"
   ]
  },
  {
   "cell_type": "code",
   "execution_count": null,
   "id": "8d414470-264a-4c6c-8690-ff917faf14da",
   "metadata": {},
   "outputs": [],
   "source": [
    "# Import library for data visualization\n",
    "import matplotlib.pyplot as plt\n",
    "\n",
    "# Create a list of the algorithms and their corresponding precision scores\n",
    "algorithms = [\"Logistic Regression\",\"Linear SVC\", \"SVM\", \"Decision Tree\",\"Random Forest\", \"Gradient Boosting \\nDecision Tree\",\"KNN\",\"Logistic Regression\\n Grid Search\",\"Linear SVC\\n Grid Search\", \"SVM Grid Search\", \"Decision Tree\\n Grid Search\",\"Random Forest\\n Grid Search\",\"GBDT Grid Search\", \"KNN Grid Search\", \"Deep Learning\"]\n",
    "scores = [log_reg_results['precision'] * 100,lr_svc_results['precision'] * 100,rbf_svm_results['precision'] * 100,dt_results['precision'] * 100,rfc_results['precision'] * 100,gbdt_results['precision'] * 100, knn_results['precision'] * 100,log_reg_grid_results['precision'] * 100,lr_svc_grid_results['precision'] * 100,rbf_svm_grid_results['precision'] * 100,dt_grid_results['precision'] * 100,rfc_grid_results['precision'] * 100,gbdt_grid_results['precision'] * 100,knn_grid_results['precision'] * 100,score[1] * 100]\n",
    "\n",
    "plt.figure(figsize=(14, 6))\n",
    "# Create a bar plot to compare the performance of the different algorithms\n",
    "plt.bar(algorithms, scores)\n",
    "\n",
    "plt.xlabel(\"\\nAlgorithms\")\n",
    "plt.ylabel(\"Precision\")\n",
    "plt.title(\"Comparison of Algorithm Performances Based on Precision\")\n",
    "plt.xticks(rotation=90)\n",
    "\n",
    "plt.show()"
   ]
  },
  {
   "cell_type": "code",
   "execution_count": null,
   "id": "55ce3668-399c-422c-a0f7-2a38e26a802e",
   "metadata": {},
   "outputs": [],
   "source": [
    "# Import library for data visualization\n",
    "import matplotlib.pyplot as plt\n",
    "\n",
    "# Create a list of the algorithms and their corresponding recall scores\n",
    "algorithms = [\"Logistic Regression\",\"Linear SVC\", \"SVM\", \"Decision Tree\",\"Random Forest\", \"Gradient Boosting \\nDecision Tree\",\"KNN\",\"Logistic Regression\\n Grid Search\",\"Linear SVC\\n Grid Search\", \"SVM Grid Search\", \"Decision Tree\\n Grid Search\",\"Random Forest\\n Grid Search\",\"GBDT Grid Search\", \"KNN Grid Search\", \"Deep Learning\"]\n",
    "scores = [log_reg_results['recall'] * 100,lr_svc_results['recall'] * 100,rbf_svm_results['recall'] * 100,dt_results['recall'] * 100,rfc_results['recall'] * 100,gbdt_results['recall'] * 100, knn_results['recall'] * 100,log_reg_grid_results['recall'] * 100,lr_svc_grid_results['recall'] * 100,rbf_svm_grid_results['recall'] * 100,dt_grid_results['recall'] * 100,rfc_grid_results['recall'] * 100,gbdt_grid_results['recall'] * 100,knn_grid_results['recall'] * 100,score[1] * 100]\n",
    "\n",
    "plt.figure(figsize=(14, 6))\n",
    "# Create a bar plot to compare the performance of the different algorithms\n",
    "plt.bar(algorithms, scores)\n",
    "\n",
    "plt.xlabel(\"\\nAlgorithms\")\n",
    "plt.ylabel(\"Recall\")\n",
    "plt.title(\"Comparison of Algorithm Performances Based on Recall\")\n",
    "plt.xticks(rotation=90)\n",
    "\n",
    "plt.show()"
   ]
  },
  {
   "cell_type": "code",
   "execution_count": null,
   "id": "f4895017-efb7-4b5d-9920-50c48ad2f51c",
   "metadata": {},
   "outputs": [],
   "source": [
    "# Import library for data visualization\n",
    "import matplotlib.pyplot as plt\n",
    "\n",
    "# Create a list of the algorithms and their corresponding f1 scores\n",
    "algorithms = [\"Logistic Regression\",\"Linear SVC\", \"SVM\", \"Decision Tree\",\"Random Forest\", \"Gradient Boosting \\nDecision Tree\",\"KNN\",\"Logistic Regression\\n Grid Search\",\"Linear SVC\\n Grid Search\", \"SVM Grid Search\", \"Decision Tree\\n Grid Search\",\"Random Forest\\n Grid Search\",\"GBDT Grid Search\", \"KNN Grid Search\", \"Deep Learning\"]\n",
    "scores = [log_reg_results['f1'] * 100,lr_svc_results['f1'] * 100,rbf_svm_results['f1'] * 100,dt_results['f1'] * 100,rfc_results['f1'] * 100,gbdt_results['f1'] * 100, knn_results['f1'] * 100,log_reg_grid_results['f1'] * 100,lr_svc_grid_results['f1'] * 100,rbf_svm_grid_results['f1'] * 100,dt_grid_results['f1'] * 100,rfc_grid_results['f1'] * 100,gbdt_grid_results['f1'] * 100,knn_grid_results['f1'] * 100,score[1] * 100]\n",
    "\n",
    "plt.figure(figsize=(14, 6))\n",
    "# Create a bar plot to compare the performance of the different algorithms\n",
    "plt.bar(algorithms, scores)\n",
    "\n",
    "plt.xlabel(\"\\nAlgorithms\")\n",
    "plt.ylabel(\"F1 Score\")\n",
    "plt.title(\"Comparison of Algorithm Performances Based onn F1 Score\")\n",
    "plt.xticks(rotation=90)\n",
    "\n",
    "plt.show()"
   ]
  },
  {
   "cell_type": "code",
   "execution_count": null,
   "id": "fae43e17-ab5c-457a-ac05-f2d98009af67",
   "metadata": {},
   "outputs": [],
   "source": [
    "# Import library for data visualization\n",
    "import matplotlib.pyplot as plt\n",
    "\n",
    "# Create a list of the algorithms and their corresponding ‘cross_val_accuracy’ scores\n",
    "algorithms = [\"Logistic Regression\",\"Linear SVC\", \"SVM\", \"Decision Tree\",\"Random Forest\", \"Gradient Boosting \\nDecision Tree\",\"KNN\",\"Logistic Regression\\n Grid Search\",\"Linear SVC\\n Grid Search\", \"SVM Grid Search\", \"Decision Tree\\n Grid Search\",\"Random Forest\\n Grid Search\",\"GBDT Grid Search\", \"KNN Grid Search\", \"Deep Learning\"]\n",
    "scores = [log_reg_results['cross_val_accuracy'] ,lr_svc_results['cross_val_accuracy'] ,rbf_svm_results['cross_val_accuracy'] ,dt_results['cross_val_accuracy'] ,rfc_results['cross_val_accuracy'] ,gbdt_results['cross_val_accuracy'] , knn_results['cross_val_accuracy'] ,log_reg_grid_results['cross_val_accuracy'] ,lr_svc_grid_results['cross_val_accuracy'] ,rbf_svm_grid_results['cross_val_accuracy'] ,dt_grid_results['cross_val_accuracy'] ,rfc_grid_results['cross_val_accuracy'] ,gbdt_grid_results['cross_val_accuracy'] ,knn_grid_results['cross_val_accuracy'] ,score[1] * 100]\n",
    "\n",
    "plt.figure(figsize=(14, 6))\n",
    "# Create a bar plot to compare the performance of the different algorithms\n",
    "plt.bar(algorithms, scores)\n",
    "\n",
    "plt.xlabel(\"\\nAlgorithms\")\n",
    "plt.ylabel(\"Cross Validation Test Accuracy\")\n",
    "plt.title(\"Comparison of Algorithm Performances Based on Cross Validation Test Accuracy\")\n",
    "plt.xticks(rotation=90)\n",
    "\n",
    "plt.show()"
   ]
  },
  {
   "cell_type": "code",
   "execution_count": null,
   "id": "3347bb5a-f012-44fb-b7ac-8456467b5448",
   "metadata": {},
   "outputs": [],
   "source": [
    "import pandas as pd\n",
    "\n",
    "# Create a dictionary of results\n",
    "results = {\n",
    "    'Algorithm Name': [\"Logistic Regression\",\"Linear SVC\", \"SVM\", \"Decision Tree\",\"Random Forest\", \"Gradient Boosting Decision Tree\",\"KNN\",\"Logistic Regression Grid Search\",\"Linear SVC Grid Search\", \n",
    "                       \"SVM Grid Search\", \"Decision Tree Grid Search\",\"Random Forest Grid Search\",\"GBDT Grid Search\", \"KNN Grid Search\"],\n",
    "    \n",
    "    'Accuracy': [ log_reg_results['accuracy'] ,lr_svc_results['accuracy'] ,rbf_svm_results['accuracy'] ,dt_results['accuracy'] ,rfc_results['accuracy'] ,gbdt_results['accuracy'] , \n",
    "                 knn_results['accuracy'] ,log_reg_grid_results['accuracy'] ,lr_svc_grid_results['accuracy'] ,rbf_svm_grid_results['accuracy'] ,dt_grid_results['accuracy'] ,rfc_grid_results['accuracy'] ,\n",
    "                 gbdt_grid_results['accuracy'] ,knn_grid_results['accuracy'] ],\n",
    "    \n",
    "    'Precision': [ log_reg_results['precision'] ,lr_svc_results['precision'] ,rbf_svm_results['precision'] ,dt_results['precision'] ,rfc_results['precision'] ,gbdt_results['precision'] , \n",
    "                 knn_results['precision'] ,log_reg_grid_results['precision'] ,lr_svc_grid_results['precision'] ,rbf_svm_grid_results['precision'] ,dt_grid_results['precision'] ,rfc_grid_results['precision'] ,\n",
    "                 gbdt_grid_results['precision'] ,knn_grid_results['precision'] ],\n",
    "    \n",
    "    'Recall': [log_reg_results['recall'] ,lr_svc_results['recall'] ,rbf_svm_results['recall'] ,dt_results['recall'] ,rfc_results['recall'] ,gbdt_results['recall'] , \n",
    "                 knn_results['recall'] ,log_reg_grid_results['recall'] ,lr_svc_grid_results['recall'] ,rbf_svm_grid_results['recall'] ,dt_grid_results['recall'] ,rfc_grid_results['recall'] ,\n",
    "                 gbdt_grid_results['recall'] ,knn_grid_results['recall'] ],\n",
    "    \n",
    "    'F1 Score': [log_reg_results['f1'] ,lr_svc_results['f1'] ,rbf_svm_results['f1'] ,dt_results['f1'] ,rfc_results['f1'] ,gbdt_results['f1'] , \n",
    "                 knn_results['f1'] ,log_reg_grid_results['f1'] ,lr_svc_grid_results['f1'] ,rbf_svm_grid_results['f1'] ,dt_grid_results['f1'] ,rfc_grid_results['f1'] ,\n",
    "                 gbdt_grid_results['f1'] ,knn_grid_results['f1'] ],\n",
    "    \n",
    "    'Sensitivity': [log_reg_results['sensitivity'] ,lr_svc_results['sensitivity'] ,rbf_svm_results['sensitivity'] ,dt_results['sensitivity'] ,rfc_results['sensitivity'] ,gbdt_results['sensitivity'] , \n",
    "                 knn_results['sensitivity'] ,log_reg_grid_results['sensitivity'] ,lr_svc_grid_results['sensitivity'] ,rbf_svm_grid_results['sensitivity'] ,dt_grid_results['sensitivity'] ,rfc_grid_results['sensitivity'] ,\n",
    "                 gbdt_grid_results['sensitivity'] ,knn_grid_results['sensitivity'] ],\n",
    "    \n",
    "    'Specificity': [log_reg_results['specificity'] ,lr_svc_results['specificity'] ,rbf_svm_results['specificity'] ,dt_results['specificity'] ,rfc_results['specificity'] ,gbdt_results['specificity'] , \n",
    "                 knn_results['specificity'] ,log_reg_grid_results['specificity'] ,lr_svc_grid_results['specificity'] ,rbf_svm_grid_results['specificity'] ,dt_grid_results['specificity'] ,rfc_grid_results['specificity'] ,\n",
    "                 gbdt_grid_results['specificity'] ,knn_grid_results['specificity'] ],\n",
    "    \n",
    "    'True Negative': [log_reg_results['TN'] ,lr_svc_results['TN'] ,rbf_svm_results['TN'] ,dt_results['TN'] ,rfc_results['TN'] ,gbdt_results['TN'] , \n",
    "                 knn_results['TN'] ,log_reg_grid_results['TN'] ,lr_svc_grid_results['TN'] ,rbf_svm_grid_results['TN'] ,dt_grid_results['TN'] ,rfc_grid_results['TN'] ,\n",
    "                 gbdt_grid_results['TN'] ,knn_grid_results['TN'] ],\n",
    "    \n",
    "    'True Positive': [log_reg_results['TP'] ,lr_svc_results['TP'] ,rbf_svm_results['TP'] ,dt_results['TP'] ,rfc_results['TP'] ,gbdt_results['TP'] , \n",
    "                 knn_results['TP'] ,log_reg_grid_results['TP'] ,lr_svc_grid_results['TP'] ,rbf_svm_grid_results['TP'] ,dt_grid_results['TP'] ,rfc_grid_results['TP'] ,\n",
    "                 gbdt_grid_results['TP'] ,knn_grid_results['TP'] ],\n",
    "    \n",
    "    'False Negative': [log_reg_results['FN'] ,lr_svc_results['FN'] ,rbf_svm_results['FN'] ,dt_results['FN'] ,rfc_results['FN'] ,gbdt_results['FN'] , \n",
    "                 knn_results['FN'] ,log_reg_grid_results['FN'] ,lr_svc_grid_results['FN'] ,rbf_svm_grid_results['FN'] ,dt_grid_results['FN'] ,rfc_grid_results['FN'] ,\n",
    "                 gbdt_grid_results['FN'] ,knn_grid_results['FN'] ],\n",
    "    \n",
    "    'False Positive': [log_reg_results['FP'] ,lr_svc_results['FP'] ,rbf_svm_results['FP'] ,dt_results['FP'] ,rfc_results['FP'] ,gbdt_results['FP'] , \n",
    "                 knn_results['FP'] ,log_reg_grid_results['FP'] ,lr_svc_grid_results['FP'] ,rbf_svm_grid_results['FP'] ,dt_grid_results['FP'] ,rfc_grid_results['FP'] ,\n",
    "                 gbdt_grid_results['FP'] ,knn_grid_results['FP'] ],\n",
    "    \n",
    "    'True Negative Rate': [log_reg_results['TNR'] ,lr_svc_results['TNR'] ,rbf_svm_results['TNR'] ,dt_results['TNR'] ,rfc_results['TNR'] ,gbdt_results['TNR'] , \n",
    "                 knn_results['TNR'] ,log_reg_grid_results['TNR'] ,lr_svc_grid_results['TNR'] ,rbf_svm_grid_results['TNR'] ,dt_grid_results['TNR'] ,rfc_grid_results['TNR'] ,\n",
    "                 gbdt_grid_results['TNR'] ,knn_grid_results['TNR'] ],\n",
    "    \n",
    "    'True Positive Rate': [log_reg_results['TPR'] ,lr_svc_results['TPR'] ,rbf_svm_results['TPR'] ,dt_results['TPR'] ,rfc_results['TPR'] ,gbdt_results['TPR'] , \n",
    "                 knn_results['TPR'] ,log_reg_grid_results['TPR'] ,lr_svc_grid_results['TPR'] ,rbf_svm_grid_results['TPR'] ,dt_grid_results['TPR'] ,rfc_grid_results['TPR'] ,\n",
    "                 gbdt_grid_results['TPR'] ,knn_grid_results['TPR'] ],\n",
    "    \n",
    "    'False Negative Rate': [log_reg_results['FNR'] ,lr_svc_results['FNR'] ,rbf_svm_results['FNR'] ,dt_results['FNR'] ,rfc_results['FNR'] ,gbdt_results['FNR'] , \n",
    "                 knn_results['FNR'] ,log_reg_grid_results['FNR'] ,lr_svc_grid_results['FNR'] ,rbf_svm_grid_results['FNR'] ,dt_grid_results['FNR'] ,rfc_grid_results['FNR'] ,\n",
    "                 gbdt_grid_results['FNR'] ,knn_grid_results['FNR'] ],\n",
    "    \n",
    "    'False Positive Rate': [log_reg_results['FPR'] ,lr_svc_results['FPR'] ,rbf_svm_results['FPR'] ,dt_results['FPR'] ,rfc_results['FPR'] ,gbdt_results['FPR'] , \n",
    "                 knn_results['FPR'] ,log_reg_grid_results['FPR'] ,lr_svc_grid_results['FPR'] ,rbf_svm_grid_results['FPR'] ,dt_grid_results['FPR'] ,rfc_grid_results['FPR'] ,\n",
    "                 gbdt_grid_results['FPR'] ,knn_grid_results['FPR']],\n",
    "    \n",
    "    'Positive Pedictive Value': [log_reg_results['PPV'] ,lr_svc_results['PPV'] ,rbf_svm_results['PPV'] ,dt_results['PPV'] ,rfc_results['PPV'] ,gbdt_results['PPV'] , \n",
    "                 knn_results['PPV'] ,log_reg_grid_results['PPV'] ,lr_svc_grid_results['PPV'] ,rbf_svm_grid_results['PPV'] ,dt_grid_results['PPV'] ,rfc_grid_results['PPV'] ,\n",
    "                 gbdt_grid_results['PPV'] ,knn_grid_results['PPV'] ],\n",
    "    \n",
    "    'Negative Pedictive Value': [log_reg_results['NPV'] ,lr_svc_results['NPV'] ,rbf_svm_results['NPV'] ,dt_results['NPV'] ,rfc_results['NPV'] ,gbdt_results['NPV'] , \n",
    "                 knn_results['NPV'] ,log_reg_grid_results['NPV'] ,lr_svc_grid_results['NPV'] ,rbf_svm_grid_results['NPV'] ,dt_grid_results['NPV'] ,rfc_grid_results['NPV'] ,\n",
    "                 gbdt_grid_results['NPV'] ,knn_grid_results['NPV'] ],\n",
    "    \n",
    "    'Cross-Val Accuracy':[log_reg_results['mean_accuracy'] ,lr_svc_results['mean_accuracy'] ,rbf_svm_results['mean_accuracy'] ,dt_results['mean_accuracy'] ,rfc_results['mean_accuracy'] ,gbdt_results['mean_accuracy'] , \n",
    "                 knn_results['mean_accuracy'] ,log_reg_grid_results['mean_accuracy'] ,lr_svc_grid_results['mean_accuracy'] ,rbf_svm_grid_results['mean_accuracy'] ,dt_grid_results['mean_accuracy'] ,rfc_grid_results['mean_accuracy'] ,\n",
    "                 gbdt_grid_results['mean_accuracy'] ,knn_grid_results['mean_accuracy'] ]\n",
    "    \n",
    "}\n",
    "\n",
    "# Create a DataFrame from the dictionary\n",
    "df = pd.DataFrame(results)\n",
    "pd.set_option('expand_frame_repr', False)\n",
    "\n",
    "# Set the index to the algorithm names\n",
    "df.set_index('Algorithm Name', inplace=True)\n",
    "\n",
    "# Print the DataFrame\n",
    "print(df.to_markdown())"
   ]
  },
  {
   "cell_type": "code",
   "execution_count": null,
   "id": "fd43d94d-71d7-42d6-9cfa-71d4c4df3dcf",
   "metadata": {},
   "outputs": [],
   "source": [
    "import pandas as pd\n",
    "\n",
    "# Create a dictionary of results\n",
    "results = {\n",
    "    'Algorithm Name': [\"Logistic Regression\",\"Linear SVC\", \"SVM\", \"Decision Tree\",\"Random Forest\", \"Gradient Boosting Decision Tree\",\"KNN\",\"Logistic Regression Grid Search\",\"Linear SVC Grid Search\", \n",
    "                       \"SVM Grid Search\", \"Decision Tree Grid Search\",\"Random Forest Grid Search\",\"GBDT Grid Search\", \"KNN Grid Search\"],\n",
    "    \n",
    "    'Accuracy': [ log_reg_results['accuracy'] ,lr_svc_results['accuracy'] ,rbf_svm_results['accuracy'] ,dt_results['accuracy'] ,rfc_results['accuracy'] ,gbdt_results['accuracy'] , \n",
    "                 knn_results['accuracy'] ,log_reg_grid_results['accuracy'] ,lr_svc_grid_results['accuracy'] ,rbf_svm_grid_results['accuracy'] ,dt_grid_results['accuracy'] ,rfc_grid_results['accuracy'] ,\n",
    "                 gbdt_grid_results['accuracy'] ,knn_grid_results['accuracy'] ],\n",
    "    \n",
    "    'Precision': [ log_reg_results['precision'] ,lr_svc_results['precision'] ,rbf_svm_results['precision'] ,dt_results['precision'] ,rfc_results['precision'] ,gbdt_results['precision'] , \n",
    "                 knn_results['precision'] ,log_reg_grid_results['precision'] ,lr_svc_grid_results['precision'] ,rbf_svm_grid_results['precision'] ,dt_grid_results['precision'] ,rfc_grid_results['precision'] ,\n",
    "                 gbdt_grid_results['precision'] ,knn_grid_results['precision'] ],\n",
    "    \n",
    "    'Recall': [log_reg_results['recall'] ,lr_svc_results['recall'] ,rbf_svm_results['recall'] ,dt_results['recall'] ,rfc_results['recall'] ,gbdt_results['recall'] , \n",
    "                 knn_results['recall'] ,log_reg_grid_results['recall'] ,lr_svc_grid_results['recall'] ,rbf_svm_grid_results['recall'] ,dt_grid_results['recall'] ,rfc_grid_results['recall'] ,\n",
    "                 gbdt_grid_results['recall'] ,knn_grid_results['recall'] ],\n",
    "    \n",
    "    'F1 Score': [log_reg_results['f1'] ,lr_svc_results['f1'] ,rbf_svm_results['f1'] ,dt_results['f1'] ,rfc_results['f1'] ,gbdt_results['f1'] , \n",
    "                 knn_results['f1'] ,log_reg_grid_results['f1'] ,lr_svc_grid_results['f1'] ,rbf_svm_grid_results['f1'] ,dt_grid_results['f1'] ,rfc_grid_results['f1'] ,\n",
    "                 gbdt_grid_results['f1'] ,knn_grid_results['f1'] ],\n",
    "    \n",
    "    'Sensitivity': [log_reg_results['sensitivity'] ,lr_svc_results['sensitivity'] ,rbf_svm_results['sensitivity'] ,dt_results['sensitivity'] ,rfc_results['sensitivity'] ,gbdt_results['sensitivity'] , \n",
    "                 knn_results['sensitivity'] ,log_reg_grid_results['sensitivity'] ,lr_svc_grid_results['sensitivity'] ,rbf_svm_grid_results['sensitivity'] ,dt_grid_results['sensitivity'] ,rfc_grid_results['sensitivity'] ,\n",
    "                 gbdt_grid_results['sensitivity'] ,knn_grid_results['sensitivity'] ],\n",
    "    \n",
    "    'Specificity': [log_reg_results['specificity'] ,lr_svc_results['specificity'] ,rbf_svm_results['specificity'] ,dt_results['specificity'] ,rfc_results['specificity'] ,gbdt_results['specificity'] , \n",
    "                 knn_results['specificity'] ,log_reg_grid_results['specificity'] ,lr_svc_grid_results['specificity'] ,rbf_svm_grid_results['specificity'] ,dt_grid_results['specificity'] ,rfc_grid_results['specificity'] ,\n",
    "                 gbdt_grid_results['specificity'] ,knn_grid_results['specificity'] ],\n",
    "    \n",
    "    'True Negative': [log_reg_results['TN'] ,lr_svc_results['TN'] ,rbf_svm_results['TN'] ,dt_results['TN'] ,rfc_results['TN'] ,gbdt_results['TN'] , \n",
    "                 knn_results['TN'] ,log_reg_grid_results['TN'] ,lr_svc_grid_results['TN'] ,rbf_svm_grid_results['TN'] ,dt_grid_results['TN'] ,rfc_grid_results['TN'] ,\n",
    "                 gbdt_grid_results['TN'] ,knn_grid_results['TN'] ],\n",
    "    \n",
    "    'True Positive': [log_reg_results['TP'] ,lr_svc_results['TP'] ,rbf_svm_results['TP'] ,dt_results['TP'] ,rfc_results['TP'] ,gbdt_results['TP'] , \n",
    "                 knn_results['TP'] ,log_reg_grid_results['TP'] ,lr_svc_grid_results['TP'] ,rbf_svm_grid_results['TP'] ,dt_grid_results['TP'] ,rfc_grid_results['TP'] ,\n",
    "                 gbdt_grid_results['TP'] ,knn_grid_results['TP'] ],\n",
    "    \n",
    "    'False Negative': [log_reg_results['FN'] ,lr_svc_results['FN'] ,rbf_svm_results['FN'] ,dt_results['FN'] ,rfc_results['FN'] ,gbdt_results['FN'] , \n",
    "                 knn_results['FN'] ,log_reg_grid_results['FN'] ,lr_svc_grid_results['FN'] ,rbf_svm_grid_results['FN'] ,dt_grid_results['FN'] ,rfc_grid_results['FN'] ,\n",
    "                 gbdt_grid_results['FN'] ,knn_grid_results['FN'] ],\n",
    "    \n",
    "    'False Positive': [log_reg_results['FP'] ,lr_svc_results['FP'] ,rbf_svm_results['FP'] ,dt_results['FP'] ,rfc_results['FP'] ,gbdt_results['FP'] , \n",
    "                 knn_results['FP'] ,log_reg_grid_results['FP'] ,lr_svc_grid_results['FP'] ,rbf_svm_grid_results['FP'] ,dt_grid_results['FP'] ,rfc_grid_results['FP'] ,\n",
    "                 gbdt_grid_results['FP'] ,knn_grid_results['FP'] ],\n",
    "    \n",
    "    \n",
    "    'Positive Pedictive Value': [log_reg_results['PPV'] ,lr_svc_results['PPV'] ,rbf_svm_results['PPV'] ,dt_results['PPV'] ,rfc_results['PPV'] ,gbdt_results['PPV'] , \n",
    "                 knn_results['PPV'] ,log_reg_grid_results['PPV'] ,lr_svc_grid_results['PPV'] ,rbf_svm_grid_results['PPV'] ,dt_grid_results['PPV'] ,rfc_grid_results['PPV'] ,\n",
    "                 gbdt_grid_results['PPV'] ,knn_grid_results['PPV'] ],\n",
    "    \n",
    "    'Negative Pedictive Value': [log_reg_results['NPV'] ,lr_svc_results['NPV'] ,rbf_svm_results['NPV'] ,dt_results['NPV'] ,rfc_results['NPV'] ,gbdt_results['NPV'] , \n",
    "                 knn_results['NPV'] ,log_reg_grid_results['NPV'] ,lr_svc_grid_results['NPV'] ,rbf_svm_grid_results['NPV'] ,dt_grid_results['NPV'] ,rfc_grid_results['NPV'] ,\n",
    "                 gbdt_grid_results['NPV'] ,knn_grid_results['NPV'] ],\n",
    "    \n",
    "    'Cross-Val Accuracy':[log_reg_results['mean_accuracy'] ,lr_svc_results['mean_accuracy'] ,rbf_svm_results['mean_accuracy'] ,dt_results['mean_accuracy'] ,rfc_results['mean_accuracy'] ,gbdt_results['mean_accuracy'] , \n",
    "                 knn_results['mean_accuracy'] ,log_reg_grid_results['mean_accuracy'] ,lr_svc_grid_results['mean_accuracy'] ,rbf_svm_grid_results['mean_accuracy'] ,dt_grid_results['mean_accuracy'] ,rfc_grid_results['mean_accuracy'] ,\n",
    "                 gbdt_grid_results['mean_accuracy'] ,knn_grid_results['mean_accuracy'] ]\n",
    "    \n",
    "}\n",
    "\n",
    "# Create a DataFrame from the dictionary\n",
    "df = pd.DataFrame(results)\n",
    "pd.set_option('expand_frame_repr', False)\n",
    "\n",
    "# Set the index to the algorithm names\n",
    "df.set_index('Algorithm Name', inplace=True)\n",
    "\n",
    "# Print the DataFrame\n",
    "print(df.to_markdown())"
   ]
  },
  {
   "cell_type": "code",
   "execution_count": null,
   "id": "ad48e681-4254-46ba-9661-761c81976e11",
   "metadata": {},
   "outputs": [],
   "source": [
    "import pandas as pd\n",
    "\n",
    "# Create a dictionary of results\n",
    "results = {\n",
    "    'Algorithm Name': [\"Logistic Regression\",\"Linear SVC\", \"SVM\", \"Decision Tree\",\"Random Forest\", \"Gradient Boosting Decision Tree\",\"KNN\",\"Logistic Regression Grid Search\",\"Linear SVC Grid Search\", \n",
    "                       \"SVM Grid Search\", \"Decision Tree Grid Search\",\"Random Forest Grid Search\",\"GBDT Grid Search\", \"KNN Grid Search\"],\n",
    "    \n",
    "    'Accuracy': [ log_reg_results['accuracy'] ,lr_svc_results['accuracy'] ,rbf_svm_results['accuracy'] ,dt_results['accuracy'] ,rfc_results['accuracy'] ,gbdt_results['accuracy'] , \n",
    "                 knn_results['accuracy'] ,log_reg_grid_results['accuracy'] ,lr_svc_grid_results['accuracy'] ,rbf_svm_grid_results['accuracy'] ,dt_grid_results['accuracy'] ,rfc_grid_results['accuracy'] ,\n",
    "                 gbdt_grid_results['accuracy'] ,knn_grid_results['accuracy'] ],\n",
    "    \n",
    "    'Precision': [ log_reg_results['precision'] ,lr_svc_results['precision'] ,rbf_svm_results['precision'] ,dt_results['precision'] ,rfc_results['precision'] ,gbdt_results['precision'] , \n",
    "                 knn_results['precision'] ,log_reg_grid_results['precision'] ,lr_svc_grid_results['precision'] ,rbf_svm_grid_results['precision'] ,dt_grid_results['precision'] ,rfc_grid_results['precision'] ,\n",
    "                 gbdt_grid_results['precision'] ,knn_grid_results['precision'] ],\n",
    "    \n",
    "    'Recall': [log_reg_results['recall'] ,lr_svc_results['recall'] ,rbf_svm_results['recall'] ,dt_results['recall'] ,rfc_results['recall'] ,gbdt_results['recall'] , \n",
    "                 knn_results['recall'] ,log_reg_grid_results['recall'] ,lr_svc_grid_results['recall'] ,rbf_svm_grid_results['recall'] ,dt_grid_results['recall'] ,rfc_grid_results['recall'] ,\n",
    "                 gbdt_grid_results['recall'] ,knn_grid_results['recall'] ],\n",
    "    \n",
    "    'F1 Score': [log_reg_results['f1'] ,lr_svc_results['f1'] ,rbf_svm_results['f1'] ,dt_results['f1'] ,rfc_results['f1'] ,gbdt_results['f1'] , \n",
    "                 knn_results['f1'] ,log_reg_grid_results['f1'] ,lr_svc_grid_results['f1'] ,rbf_svm_grid_results['f1'] ,dt_grid_results['f1'] ,rfc_grid_results['f1'] ,\n",
    "                 gbdt_grid_results['f1'] ,knn_grid_results['f1'] ],\n",
    "    \n",
    "    'Sensitivity': [log_reg_results['sensitivity'] ,lr_svc_results['sensitivity'] ,rbf_svm_results['sensitivity'] ,dt_results['sensitivity'] ,rfc_results['sensitivity'] ,gbdt_results['sensitivity'] , \n",
    "                 knn_results['sensitivity'] ,log_reg_grid_results['sensitivity'] ,lr_svc_grid_results['sensitivity'] ,rbf_svm_grid_results['sensitivity'] ,dt_grid_results['sensitivity'] ,rfc_grid_results['sensitivity'] ,\n",
    "                 gbdt_grid_results['sensitivity'] ,knn_grid_results['sensitivity'] ],\n",
    "    \n",
    "    'Specificity': [log_reg_results['specificity'] ,lr_svc_results['specificity'] ,rbf_svm_results['specificity'] ,dt_results['specificity'] ,rfc_results['specificity'] ,gbdt_results['specificity'] , \n",
    "                 knn_results['specificity'] ,log_reg_grid_results['specificity'] ,lr_svc_grid_results['specificity'] ,rbf_svm_grid_results['specificity'] ,dt_grid_results['specificity'] ,rfc_grid_results['specificity'] ,\n",
    "                 gbdt_grid_results['specificity'] ,knn_grid_results['specificity'] ],\n",
    "    \n",
    "    \n",
    "    'Positive Pedictive Value': [log_reg_results['PPV'] ,lr_svc_results['PPV'] ,rbf_svm_results['PPV'] ,dt_results['PPV'] ,rfc_results['PPV'] ,gbdt_results['PPV'] , \n",
    "                 knn_results['PPV'] ,log_reg_grid_results['PPV'] ,lr_svc_grid_results['PPV'] ,rbf_svm_grid_results['PPV'] ,dt_grid_results['PPV'] ,rfc_grid_results['PPV'] ,\n",
    "                 gbdt_grid_results['PPV'] ,knn_grid_results['PPV'] ],\n",
    "    \n",
    "    'Negative Pedictive Value': [log_reg_results['NPV'] ,lr_svc_results['NPV'] ,rbf_svm_results['NPV'] ,dt_results['NPV'] ,rfc_results['NPV'] ,gbdt_results['NPV'] , \n",
    "                 knn_results['NPV'] ,log_reg_grid_results['NPV'] ,lr_svc_grid_results['NPV'] ,rbf_svm_grid_results['NPV'] ,dt_grid_results['NPV'] ,rfc_grid_results['NPV'] ,\n",
    "                 gbdt_grid_results['NPV'] ,knn_grid_results['NPV'] ],\n",
    "    \n",
    "    'Cross-Val Accuracy':[log_reg_results['mean_accuracy'] ,lr_svc_results['mean_accuracy'] ,rbf_svm_results['mean_accuracy'] ,dt_results['mean_accuracy'] ,rfc_results['mean_accuracy'] ,gbdt_results['mean_accuracy'] , \n",
    "                 knn_results['mean_accuracy'] ,log_reg_grid_results['mean_accuracy'] ,lr_svc_grid_results['mean_accuracy'] ,rbf_svm_grid_results['mean_accuracy'] ,dt_grid_results['mean_accuracy'] ,rfc_grid_results['mean_accuracy'] ,\n",
    "                 gbdt_grid_results['mean_accuracy'] ,knn_grid_results['mean_accuracy'] ]\n",
    "    \n",
    "}\n",
    "\n",
    "# Create a DataFrame from the dictionary\n",
    "df = pd.DataFrame(results)\n",
    "pd.set_option('expand_frame_repr', False)\n",
    "\n",
    "# Set the index to the algorithm names\n",
    "df.set_index('Algorithm Name', inplace=True)\n",
    "\n",
    "# Print the DataFrame\n",
    "print(df.to_markdown())"
   ]
  },
  {
   "cell_type": "code",
   "execution_count": null,
   "id": "b08bc223-9c64-4d5f-a60d-11a352e5bf73",
   "metadata": {},
   "outputs": [],
   "source": [
    "import pandas as pd\n",
    "\n",
    "# Create a dictionary of results\n",
    "results = {\n",
    "    'Algorithm Name': [\"Logistic Regression\",\"Linear SVC\", \"SVM\", \"Decision Tree\",\"Random Forest\", \"Gradient Boosting Decision Tree\",\"KNN\",\"Logistic Regression Grid Search\",\"Linear SVC Grid Search\", \n",
    "                       \"SVM Grid Search\", \"Decision Tree Grid Search\",\"Random Forest Grid Search\",\"GBDT Grid Search\", \"KNN Grid Search\"],\n",
    "    \n",
    "    'Accuracy': [ log_reg_results['accuracy'] ,lr_svc_results['accuracy'] ,rbf_svm_results['accuracy'] ,dt_results['accuracy'] ,rfc_results['accuracy'] ,gbdt_results['accuracy'] , \n",
    "                 knn_results['accuracy'] ,log_reg_grid_results['accuracy'] ,lr_svc_grid_results['accuracy'] ,rbf_svm_grid_results['accuracy'] ,dt_grid_results['accuracy'] ,rfc_grid_results['accuracy'] ,\n",
    "                 gbdt_grid_results['accuracy'] ,knn_grid_results['accuracy'] ],\n",
    "    \n",
    "    'Precision': [ log_reg_results['precision'] ,lr_svc_results['precision'] ,rbf_svm_results['precision'] ,dt_results['precision'] ,rfc_results['precision'] ,gbdt_results['precision'] , \n",
    "                 knn_results['precision'] ,log_reg_grid_results['precision'] ,lr_svc_grid_results['precision'] ,rbf_svm_grid_results['precision'] ,dt_grid_results['precision'] ,rfc_grid_results['precision'] ,\n",
    "                 gbdt_grid_results['precision'] ,knn_grid_results['precision'] ],\n",
    "    \n",
    "    'Recall': [log_reg_results['recall'] ,lr_svc_results['recall'] ,rbf_svm_results['recall'] ,dt_results['recall'] ,rfc_results['recall'] ,gbdt_results['recall'] , \n",
    "                 knn_results['recall'] ,log_reg_grid_results['recall'] ,lr_svc_grid_results['recall'] ,rbf_svm_grid_results['recall'] ,dt_grid_results['recall'] ,rfc_grid_results['recall'] ,\n",
    "                 gbdt_grid_results['recall'] ,knn_grid_results['recall'] ],\n",
    "    \n",
    "    'F1 Score': [log_reg_results['f1'] ,lr_svc_results['f1'] ,rbf_svm_results['f1'] ,dt_results['f1'] ,rfc_results['f1'] ,gbdt_results['f1'] , \n",
    "                 knn_results['f1'] ,log_reg_grid_results['f1'] ,lr_svc_grid_results['f1'] ,rbf_svm_grid_results['f1'] ,dt_grid_results['f1'] ,rfc_grid_results['f1'] ,\n",
    "                 gbdt_grid_results['f1'] ,knn_grid_results['f1'] ],\n",
    "\n",
    "    \n",
    "    'Positive Pedictive Value': [log_reg_results['PPV'] ,lr_svc_results['PPV'] ,rbf_svm_results['PPV'] ,dt_results['PPV'] ,rfc_results['PPV'] ,gbdt_results['PPV'] , \n",
    "                 knn_results['PPV'] ,log_reg_grid_results['PPV'] ,lr_svc_grid_results['PPV'] ,rbf_svm_grid_results['PPV'] ,dt_grid_results['PPV'] ,rfc_grid_results['PPV'] ,\n",
    "                 gbdt_grid_results['PPV'] ,knn_grid_results['PPV'] ],\n",
    "    \n",
    "    'Negative Pedictive Value': [log_reg_results['NPV'] ,lr_svc_results['NPV'] ,rbf_svm_results['NPV'] ,dt_results['NPV'] ,rfc_results['NPV'] ,gbdt_results['NPV'] , \n",
    "                 knn_results['NPV'] ,log_reg_grid_results['NPV'] ,lr_svc_grid_results['NPV'] ,rbf_svm_grid_results['NPV'] ,dt_grid_results['NPV'] ,rfc_grid_results['NPV'] ,\n",
    "                 gbdt_grid_results['NPV'] ,knn_grid_results['NPV'] ],\n",
    "    \n",
    "    'Cross-Val Accuracy':[log_reg_results['mean_accuracy'] ,lr_svc_results['mean_accuracy'] ,rbf_svm_results['mean_accuracy'] ,dt_results['mean_accuracy'] ,rfc_results['mean_accuracy'] ,gbdt_results['mean_accuracy'] , \n",
    "                 knn_results['mean_accuracy'] ,log_reg_grid_results['mean_accuracy'] ,lr_svc_grid_results['mean_accuracy'] ,rbf_svm_grid_results['mean_accuracy'] ,dt_grid_results['mean_accuracy'] ,rfc_grid_results['mean_accuracy'] ,\n",
    "                 gbdt_grid_results['mean_accuracy'] ,knn_grid_results['mean_accuracy'] ]\n",
    "    \n",
    "}\n",
    "\n",
    "# Create a DataFrame from the dictionary\n",
    "df = pd.DataFrame(results)\n",
    "pd.set_option('expand_frame_repr', False)\n",
    "\n",
    "# Set the index to the algorithm names\n",
    "df.set_index('Algorithm Name', inplace=True)\n",
    "\n",
    "# Print the DataFrame\n",
    "print(df.to_markdown())"
   ]
  },
  {
   "cell_type": "markdown",
   "id": "c2fa4349-7b44-4fb8-8135-3a01323dc676",
   "metadata": {},
   "source": [
    "# Conclusion:\n",
    "- After comparing all the models Linear svc achieved highest accuracy."
   ]
  }
 ],
 "metadata": {
  "kernelspec": {
   "display_name": "Python 3 (ipykernel)",
   "language": "python",
   "name": "python3"
  },
  "language_info": {
   "codemirror_mode": {
    "name": "ipython",
    "version": 3
   },
   "file_extension": ".py",
   "mimetype": "text/x-python",
   "name": "python",
   "nbconvert_exporter": "python",
   "pygments_lexer": "ipython3",
   "version": "3.11.5"
  }
 },
 "nbformat": 4,
 "nbformat_minor": 5
}
